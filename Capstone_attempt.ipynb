{
 "cells": [
  {
   "cell_type": "code",
   "execution_count": 4,
   "metadata": {
    "collapsed": true
   },
   "outputs": [],
   "source": [
    "#import sys\n",
    "def OpenFile(line1,line2):\n",
    "    \"\"\"This function is called so that it can open the file we need for the evaluation. \n",
    "    Make sure the file is placed in the same directory/folder with the python files\"\"\"\n",
    "    inputinvalid = True\n",
    "    while inputinvalid:\n",
    "        try:\n",
    "            inputinvalid = False\n",
    "            infile = open('facebook.csv', 'r')\n",
    "            line1 = infile.readline()\n",
    "            line2 = infile.readline()\n",
    "\n",
    "            infile.close()\n",
    "        except FileNotFoundError as E1:\n",
    "            print('an error occured while opening the file. Check file name and file location then try again')\n",
    "            print(E1)\n",
    "            inputinvalid = True\n",
    "    return(line1, line2)"
   ]
  },
  {
   "cell_type": "code",
   "execution_count": 22,
   "metadata": {},
   "outputs": [
    {
     "name": "stdout",
     "output_type": "stream",
     "text": [
      "Input the correct name of file and extensionfacebook.csv\n",
      "Time Period,1,2,3,4,5,6,7,8,9,10,11,12\n",
      "\n",
      "Value,173.86,155.39,175.94,193.09,181.42,175.1,182.66,169.47,172.02,169.86,148.43,151.53\n",
      "\n"
     ]
    }
   ],
   "source": [
    "try:\n",
    "    fileName = input(\"Input the correct name of file and extension\") \n",
    "    infile = open(fileName, 'r')\n",
    "    \n",
    "except FileNotFoundError as e1:\n",
    "    print('an error occured while opening the file. Check file name and file location then try again')\n",
    "    print(e1)\n",
    "except Exception as e2:\n",
    "    print('Sorry an error occured')\n",
    "    print(e2)    \n",
    "else:   \n",
    "    \n",
    "    s1 = infile.readline()\n",
    "    s2 = infile.readline()\n",
    "    print(s1)\n",
    "    print(s2)\n",
    "    infile.close()"
   ]
  },
  {
   "cell_type": "code",
   "execution_count": 15,
   "metadata": {},
   "outputs": [
    {
     "data": {
      "text/plain": [
       "('Time Period,1,2,3,4,5,6,7,8,9,10,11,12\\n',\n",
       " 'Value,173.86,155.39,175.94,193.09,181.42,175.1,182.66,169.47,172.02,169.86,148.43,151.53\\n')"
      ]
     },
     "execution_count": 15,
     "metadata": {},
     "output_type": "execute_result"
    }
   ],
   "source": [
    "name = input(\"input name of file and extension\")\n",
    "files = open(name,'r')\n"
   ]
  },
  {
   "cell_type": "code",
   "execution_count": 12,
   "metadata": {
    "collapsed": true
   },
   "outputs": [],
   "source": [
    "s1 = s1.rstrip('\\n')\n",
    "s2 = s2.rstrip('\\n')"
   ]
  },
  {
   "cell_type": "code",
   "execution_count": 14,
   "metadata": {},
   "outputs": [
    {
     "name": "stdout",
     "output_type": "stream",
     "text": [
      "\n"
     ]
    }
   ],
   "source": [
    "print(s2)"
   ]
  },
  {
   "cell_type": "code",
   "execution_count": 16,
   "metadata": {},
   "outputs": [
    {
     "data": {
      "text/plain": [
       "('Time Period,1,2,3,4,5,6,7,8,9,10,11,12\\n',\n",
       " 'Value,173.86,155.39,175.94,193.09,181.42,175.1,182.66,169.47,172.02,169.86,148.43,151.53\\n')"
      ]
     },
     "execution_count": 16,
     "metadata": {},
     "output_type": "execute_result"
    }
   ],
   "source": [
    "nu_file"
   ]
  },
  {
   "cell_type": "code",
   "execution_count": 20,
   "metadata": {},
   "outputs": [
    {
     "name": "stdout",
     "output_type": "stream",
     "text": [
      "input name of file and extensionfaceboo\n"
     ]
    },
    {
     "ename": "FileNotFoundError",
     "evalue": "[Errno 2] No such file or directory: 'faceboo'",
     "output_type": "error",
     "traceback": [
      "\u001b[1;31m---------------------------------------------------------------------------\u001b[0m",
      "\u001b[1;31mFileNotFoundError\u001b[0m                         Traceback (most recent call last)",
      "\u001b[1;32m<ipython-input-20-e0dff42aba85>\u001b[0m in \u001b[0;36m<module>\u001b[1;34m()\u001b[0m\n\u001b[0;32m      1\u001b[0m \u001b[0mname\u001b[0m \u001b[1;33m=\u001b[0m \u001b[0minput\u001b[0m\u001b[1;33m(\u001b[0m\u001b[1;34m\"input name of file and extension\"\u001b[0m\u001b[1;33m)\u001b[0m\u001b[1;33m\u001b[0m\u001b[0m\n\u001b[1;32m----> 2\u001b[1;33m \u001b[0mfiles\u001b[0m \u001b[1;33m=\u001b[0m \u001b[0mopen\u001b[0m\u001b[1;33m(\u001b[0m\u001b[0mname\u001b[0m\u001b[1;33m,\u001b[0m\u001b[1;34m'r'\u001b[0m\u001b[1;33m)\u001b[0m\u001b[1;33m\u001b[0m\u001b[0m\n\u001b[0m",
      "\u001b[1;31mFileNotFoundError\u001b[0m: [Errno 2] No such file or directory: 'faceboo'"
     ]
    }
   ],
   "source": [
    "name = input(\"input name of file and extension\")\n",
    "files = open(name,'r')\n"
   ]
  },
  {
   "cell_type": "code",
   "execution_count": 1,
   "metadata": {
    "collapsed": true
   },
   "outputs": [],
   "source": [
    "def GradeEntry():\n",
    "    grade = 0.0\n",
    "    inputinvalid = True\n",
    "    while inputinvalid:\n",
    "        try:\n",
    "            inputinvalid = False\n",
    "            grade = float(input(\"Please input the next grade.\"))\n",
    "        except:\n",
    "            print(\"Invalid number, Please try again: \")\n",
    "            inputinvalid = True\n",
    "    return grade"
   ]
  },
  {
   "cell_type": "code",
   "execution_count": 4,
   "metadata": {},
   "outputs": [
    {
     "name": "stdout",
     "output_type": "stream",
     "text": [
      "Grade Program\n",
      "Please input the next grade.78.3\n",
      "Please input the next grade.87.9\n",
      "Please input the next grade.90.0\n",
      "Please input the next grade.98.9\n",
      "Please input the next grade.100\n",
      "Please input the next grade.100\n",
      "Average = 92.52\n"
     ]
    }
   ],
   "source": [
    "print(\"Grade Program\")\n",
    "g1 = GradeEntry()\n",
    "g2 = GradeEntry()\n",
    "g3 = GradeEntry()\n",
    "g4 = GradeEntry()\n",
    "g5 = GradeEntry()\n",
    "g6 = GradeEntry()\n",
    "print(\"Average = %.2f\" % ((g1 + g2 + g3 + g4 + g5 + g6)/6))"
   ]
  },
  {
   "cell_type": "code",
   "execution_count": 11,
   "metadata": {},
   "outputs": [
    {
     "name": "stdout",
     "output_type": "stream",
     "text": [
      "Input anything :kdme\n",
      "Your input is:  kdme\n",
      "do you wish to continue? ('Y' or 'N')klsmdk\n",
      "go back and enter the right thing\n",
      "do you wish to continue? ('Y' or 'N')n\n",
      "thanks for your time.\n"
     ]
    }
   ],
   "source": [
    "run_again = True\n",
    "while run_again:\n",
    "    run_again = False\n",
    "    enquiry = input(\"Input anything :\")  \n",
    "    print(\"Your input is: \", enquiry)\n",
    "    \n",
    "    incorrect = True\n",
    "    while incorrect:\n",
    "        incorrect = False\n",
    "        ansa = input(\"do you wish to continue? ('Y' or 'N')\")\n",
    "        if ansa.upper() == 'Y':\n",
    "            run_again = True\n",
    "        elif ansa.upper() == 'N':\n",
    "            print('thanks for your time.')\n",
    "            break\n",
    "        else:\n",
    "            print('go back and enter the right thing')\n",
    "            incorrect = True\n",
    "        #break\n",
    "  \n",
    "        #run_again = True"
   ]
  },
  {
   "cell_type": "code",
   "execution_count": null,
   "metadata": {
    "collapsed": true
   },
   "outputs": [],
   "source": []
  }
 ],
 "metadata": {
  "kernelspec": {
   "display_name": "Python 3",
   "language": "python",
   "name": "python3"
  },
  "language_info": {
   "codemirror_mode": {
    "name": "ipython",
    "version": 3
   },
   "file_extension": ".py",
   "mimetype": "text/x-python",
   "name": "python",
   "nbconvert_exporter": "python",
   "pygments_lexer": "ipython3",
   "version": "3.6.3"
  }
 },
 "nbformat": 4,
 "nbformat_minor": 2
}
