{
  "nbformat": 4,
  "nbformat_minor": 0,
  "metadata": {
    "colab": {
      "name": "FinalCopy of WQU_R_Econometrics_GroupWork.ipynb",
      "provenance": [],
      "collapsed_sections": [],
      "include_colab_link": true
    },
    "kernelspec": {
      "name": "python3",
      "display_name": "Python 3"
    }
  },
  "cells": [
    {
      "cell_type": "markdown",
      "metadata": {
        "id": "view-in-github",
        "colab_type": "text"
      },
      "source": [
        "<a href=\"https://colab.research.google.com/github/RickyMacharm/WorldQuant_Python/blob/master/FinalCopy_of_WQU_R_Econometrics_GroupWork.ipynb\" target=\"_parent\"><img src=\"https://colab.research.google.com/assets/colab-badge.svg\" alt=\"Open In Colab\"/></a>"
      ]
    },
    {
      "cell_type": "markdown",
      "metadata": {
        "id": "ANNymlCj4cA2",
        "colab_type": "text"
      },
      "source": [
        "### Running R on Colab\n",
        "In order to run R successfully on colab, we need to execute the following code `%load_ext rpy2.ipython` in a cell first of all. We need to run the cell each time we are re-starting the runtime or running thru the workbook again (especially after Google's 12 hour runtime use has elapsed.)"
      ]
    },
    {
      "cell_type": "code",
      "metadata": {
        "id": "tAwIHuCBnLUs",
        "colab_type": "code",
        "colab": {}
      },
      "source": [
        "%load_ext rpy2.ipython"
      ],
      "execution_count": 0,
      "outputs": []
    },
    {
      "cell_type": "markdown",
      "metadata": {
        "id": "Y83QMmdi5Kvk",
        "colab_type": "text"
      },
      "source": [
        "For every cell we next run, if the codes are R codes, we would need to remember to include `%%R` at the begining of the cell."
      ]
    },
    {
      "cell_type": "code",
      "metadata": {
        "id": "C6CdCU_hA9Gg",
        "colab_type": "code",
        "outputId": "44c0a46f-8ca2-44bc-b6d6-eae5e6b924f3",
        "colab": {
          "base_uri": "https://localhost:8080/",
          "height": 141
        }
      },
      "source": [
        "%%R\n",
        "JPM <- read.csv('JPM.csv', row.names=\"Date\") # setting the \"Date\" column as index\n",
        "\n",
        "\n",
        "tail(JPM)"
      ],
      "execution_count": 0,
      "outputs": [
        {
          "output_type": "display_data",
          "data": {
            "text/plain": [
              "            Open  High   Low Close Adj.Close   Volume\n",
              "2018-12-20 96.61 98.28 95.69 96.45  94.27905 31825200\n",
              "2018-12-21 96.68 98.43 93.69 94.17  92.05038 41313900\n",
              "2018-12-24 92.89 94.22 92.14 92.14  90.06607 17009300\n",
              "2018-12-26 92.69 95.96 91.11 95.96  93.80009 22542900\n",
              "2018-12-27 94.82 97.15 93.55 97.04  94.85577 20304700\n",
              "2018-12-28 97.95 98.32 96.44 96.83  94.65051 17963300\n"
            ]
          },
          "metadata": {
            "tags": []
          }
        }
      ]
    },
    {
      "cell_type": "markdown",
      "metadata": {
        "id": "ka8kS07cr4xV",
        "colab_type": "text"
      },
      "source": [
        "This next cell is going to help us to create a column and display the returns from the adjusted close."
      ]
    },
    {
      "cell_type": "code",
      "metadata": {
        "id": "daI6AmK2z3YF",
        "colab_type": "code",
        "outputId": "e2f6ed95-13a2-4064-9f1d-58b8b8487f0e",
        "colab": {
          "base_uri": "https://localhost:8080/",
          "height": 141
        }
      },
      "source": [
        "%%R\n",
        "JPM$Returns=c(NA,diff(log(JPM$Adj.Close)))\n",
        "\n",
        "head(JPM)"
      ],
      "execution_count": 0,
      "outputs": [
        {
          "output_type": "display_data",
          "data": {
            "text/plain": [
              "             Open   High    Low  Close Adj.Close   Volume      Returns\n",
              "2018-01-31 115.65 116.66 115.16 115.67  111.1099 13141400           NA\n",
              "2018-02-01 115.77 116.99 115.48 116.87  112.2626 13800600  0.010320927\n",
              "2018-02-02 116.49 116.92 114.09 114.28  109.7747 16477300 -0.022410622\n",
              "2018-02-05 113.00 114.59 103.98 108.80  104.5107 30097600 -0.049140201\n",
              "2018-02-06 106.85 112.48 106.61 112.11  107.6902 33114800  0.029969236\n",
              "2018-02-07 111.55 114.45 111.15 112.87  108.4203 21878300  0.006756144\n"
            ]
          },
          "metadata": {
            "tags": []
          }
        }
      ]
    },
    {
      "cell_type": "markdown",
      "metadata": {
        "id": "7IXtZQzu1Osu",
        "colab_type": "text"
      },
      "source": [
        "Volatility"
      ]
    },
    {
      "cell_type": "code",
      "metadata": {
        "id": "5I_q8i9O5RL6",
        "colab_type": "code",
        "outputId": "79f0afc1-6c75-477e-ce21-fee3c3307701",
        "colab": {
          "base_uri": "https://localhost:8080/",
          "height": 34
        }
      },
      "source": [
        "%%R\n",
        "s <- sd(JPM$Adj.Close)\n",
        "s"
      ],
      "execution_count": 0,
      "outputs": [
        {
          "output_type": "display_data",
          "data": {
            "text/plain": [
              "[1] 4.56395\n"
            ]
          },
          "metadata": {
            "tags": []
          }
        }
      ]
    },
    {
      "cell_type": "markdown",
      "metadata": {
        "id": "Roh6LEQo1VSz",
        "colab_type": "text"
      },
      "source": [
        "Average stock price"
      ]
    },
    {
      "cell_type": "code",
      "metadata": {
        "id": "_FUbiLYL5qqT",
        "colab_type": "code",
        "outputId": "23009623-bf40-4d93-b8c5-76c1554434f5",
        "colab": {
          "base_uri": "https://localhost:8080/",
          "height": 34
        }
      },
      "source": [
        "%%R\n",
        "xbar <- mean(JPM$Adj.Close)\n",
        "xbar"
      ],
      "execution_count": 0,
      "outputs": [
        {
          "output_type": "display_data",
          "data": {
            "text/plain": [
              "[1] 107.2185\n"
            ]
          },
          "metadata": {
            "tags": []
          }
        }
      ]
    },
    {
      "cell_type": "markdown",
      "metadata": {
        "id": "ZGgYE6uqBDgG",
        "colab_type": "text"
      },
      "source": [
        "### S&P 500\n",
        "\n",
        "we will repeat for the `S&P 500` to get the returns as we did for `JPMorgan`"
      ]
    },
    {
      "cell_type": "code",
      "metadata": {
        "id": "rlqRNNJR8Olh",
        "colab_type": "code",
        "outputId": "5df72e65-7172-4b54-d6fa-2b416f0fdefa",
        "colab": {
          "base_uri": "https://localhost:8080/",
          "height": 141
        }
      },
      "source": [
        "%%R\n",
        "SnP500<- read.csv('^GSPC.csv', row.names=\"Date\")\n",
        "\n",
        "tail(SnP500)"
      ],
      "execution_count": 0,
      "outputs": [
        {
          "output_type": "display_data",
          "data": {
            "text/plain": [
              "              Open    High     Low   Close Adj.Close     Volume\n",
              "2018-12-20 2496.77 2509.63 2441.18 2467.42   2467.42 5585780000\n",
              "2018-12-21 2465.38 2504.41 2408.55 2416.62   2416.62 7609010000\n",
              "2018-12-24 2400.56 2410.34 2351.10 2351.10   2351.10 2613930000\n",
              "2018-12-26 2363.12 2467.76 2346.58 2467.70   2467.70 4233990000\n",
              "2018-12-27 2442.50 2489.10 2397.94 2488.83   2488.83 4096610000\n",
              "2018-12-28 2498.77 2520.27 2472.89 2485.74   2485.74 3702620000\n"
            ]
          },
          "metadata": {
            "tags": []
          }
        }
      ]
    },
    {
      "cell_type": "code",
      "metadata": {
        "id": "mpSWGCBAA2fN",
        "colab_type": "code",
        "outputId": "cd8e23b4-709b-4889-a3e5-5d22d941c190",
        "colab": {
          "base_uri": "https://localhost:8080/",
          "height": 161
        }
      },
      "source": [
        "%%R\n",
        "SnP500$Returns=c(NA,diff(log(SnP500$Adj.Close)))\n",
        "\n",
        "head(SnP500)"
      ],
      "execution_count": 0,
      "outputs": [
        {
          "output_type": "display_data",
          "data": {
            "text/plain": [
              "              Open    High     Low   Close Adj.Close     Volume       Returns\n",
              "2018-01-31 2832.41 2839.26 2813.04 2823.81   2823.81 4261280000            NA\n",
              "2018-02-01 2816.45 2835.96 2812.70 2821.98   2821.98 3938450000 -0.0006482987\n",
              "2018-02-02 2808.92 2808.92 2759.97 2762.13   2762.13 4301130000 -0.0214366803\n",
              "2018-02-05 2741.06 2763.39 2638.17 2648.94   2648.94 5283460000 -0.0418425412\n",
              "2018-02-06 2614.78 2701.04 2593.07 2695.14   2695.14 5891660000  0.0172905737\n",
              "2018-02-07 2690.95 2727.67 2681.33 2681.66   2681.66 4626570000 -0.0050141384\n"
            ]
          },
          "metadata": {
            "tags": []
          }
        }
      ]
    },
    {
      "cell_type": "markdown",
      "metadata": {
        "id": "NFn7-zv_u2_K",
        "colab_type": "text"
      },
      "source": [
        "### Two Variable Linear Regression in R\n",
        "We will use `JPMorgan` as our explained variable, y, while the `S&P500` will be our explanatory variable, X."
      ]
    },
    {
      "cell_type": "code",
      "metadata": {
        "id": "vv8PjIuq8MwC",
        "colab_type": "code",
        "colab": {}
      },
      "source": [
        "%%R\n",
        "y = JPM$Returns\n",
        "X = SnP500$Returns\n"
      ],
      "execution_count": 0,
      "outputs": []
    },
    {
      "cell_type": "markdown",
      "metadata": {
        "id": "tz6iuj4fFn7F",
        "colab_type": "text"
      },
      "source": [
        "I want to be sure that the two variables of choice are of the same length."
      ]
    },
    {
      "cell_type": "code",
      "metadata": {
        "id": "wMGGzjcYF4FW",
        "colab_type": "code",
        "outputId": "fd3ca4d4-885d-4637-f094-44dabf99eba0",
        "colab": {
          "base_uri": "https://localhost:8080/",
          "height": 34
        }
      },
      "source": [
        "%%R\n",
        "length(y)"
      ],
      "execution_count": 0,
      "outputs": [
        {
          "output_type": "display_data",
          "data": {
            "text/plain": [
              "[1] 230\n"
            ]
          },
          "metadata": {
            "tags": []
          }
        }
      ]
    },
    {
      "cell_type": "code",
      "metadata": {
        "id": "TEWbeWnADmf7",
        "colab_type": "code",
        "outputId": "5176fd02-a650-4413-c47d-e645624b3d44",
        "colab": {
          "base_uri": "https://localhost:8080/",
          "height": 34
        }
      },
      "source": [
        "%%R\n",
        "length(X)"
      ],
      "execution_count": 0,
      "outputs": [
        {
          "output_type": "display_data",
          "data": {
            "text/plain": [
              "[1] 230\n"
            ]
          },
          "metadata": {
            "tags": []
          }
        }
      ]
    },
    {
      "cell_type": "markdown",
      "metadata": {
        "id": "Uetz4IWRGeOQ",
        "colab_type": "text"
      },
      "source": [
        "Seeing that they are of the same length, we now proceed to run the linear regression as required."
      ]
    },
    {
      "cell_type": "code",
      "metadata": {
        "id": "42l03sMQIeC1",
        "colab_type": "code",
        "colab": {}
      },
      "source": [
        "%%R\n",
        "install.packages('urca');\n",
        "library('urca')"
      ],
      "execution_count": 0,
      "outputs": []
    },
    {
      "cell_type": "code",
      "metadata": {
        "id": "Ca0i_dOUGrj5",
        "colab_type": "code",
        "outputId": "547a4bb9-234d-404b-fc13-6113fdcd793c",
        "colab": {
          "base_uri": "https://localhost:8080/",
          "height": 603
        }
      },
      "source": [
        "#Estimate the cointegrating relationship\n",
        "%%R\n",
        "coin <- lm(y ~ X -1) #regression without intercept\n",
        "coin$resid #obtain the residuals\n",
        "summary(ur.df(coin$resid)) #ADF test of residuals\n",
        "\n",
        "#coin"
      ],
      "execution_count": 0,
      "outputs": [
        {
          "output_type": "display_data",
          "data": {
            "text/plain": [
              "\n",
              "############################################### \n",
              "# Augmented Dickey-Fuller Test Unit Root Test # \n",
              "############################################### \n",
              "\n",
              "Test regression none \n",
              "\n",
              "\n",
              "Call:\n",
              "lm(formula = z.diff ~ z.lag.1 - 1 + z.diff.lag)\n",
              "\n",
              "Residuals:\n",
              "      Min        1Q    Median        3Q       Max \n",
              "-0.031944 -0.005523 -0.000760  0.004042  0.039569 \n",
              "\n",
              "Coefficients:\n",
              "           Estimate Std. Error t value Pr(>|t|)    \n",
              "z.lag.1    -1.05885    0.09844 -10.756   <2e-16 ***\n",
              "z.diff.lag -0.03262    0.06643  -0.491    0.624    \n",
              "---\n",
              "Signif. codes:  0 ‘***’ 0.001 ‘**’ 0.01 ‘*’ 0.05 ‘.’ 0.1 ‘ ’ 1\n",
              "\n",
              "Residual standard error: 0.009103 on 225 degrees of freedom\n",
              "Multiple R-squared:  0.5478,\tAdjusted R-squared:  0.5438 \n",
              "F-statistic: 136.3 on 2 and 225 DF,  p-value: < 2.2e-16\n",
              "\n",
              "\n",
              "Value of test-statistic is: -10.756 \n",
              "\n",
              "Critical values for test statistics: \n",
              "      1pct  5pct 10pct\n",
              "tau1 -2.58 -1.95 -1.62\n",
              "\n"
            ]
          },
          "metadata": {
            "tags": []
          }
        }
      ]
    },
    {
      "cell_type": "markdown",
      "metadata": {
        "id": "o8An3U4SvEPa",
        "colab_type": "text"
      },
      "source": [
        "### ARMA for Housing Prices\n",
        "\n"
      ]
    },
    {
      "cell_type": "code",
      "metadata": {
        "id": "-HWLr22fTkDH",
        "colab_type": "code",
        "colab": {}
      },
      "source": [
        "%%R\n",
        "library('tidyverse')\n",
        "library('stats')\n",
        "library('readxl')\n",
        "#library(tseries)\n",
        "install.packages('forecast')\n",
        "library('forecast')"
      ],
      "execution_count": 0,
      "outputs": []
    },
    {
      "cell_type": "code",
      "metadata": {
        "id": "U2vX5-u1UBfI",
        "colab_type": "code",
        "colab": {}
      },
      "source": [
        "%%R\n",
        "install.packages('tseries')\n",
        "library('tseries')"
      ],
      "execution_count": 0,
      "outputs": []
    },
    {
      "cell_type": "code",
      "metadata": {
        "id": "WsL3Ifu7Wc9E",
        "colab_type": "code",
        "outputId": "66df02df-9768-4533-bef6-d8a26be40927",
        "colab": {
          "base_uri": "https://localhost:8080/",
          "height": 141
        }
      },
      "source": [
        "%%R\n",
        "df <- read.csv(\"CSUSHPINSA.csv\")\n",
        "\n",
        "\n",
        "head(df)"
      ],
      "execution_count": 0,
      "outputs": [
        {
          "output_type": "display_data",
          "data": {
            "text/plain": [
              "        DATE CSUSHPINSA\n",
              "1 1988-01-01      4.842\n",
              "2 1988-02-01      4.775\n",
              "3 1988-03-01      4.846\n",
              "4 1988-04-01      4.804\n",
              "5 1988-05-01      4.848\n",
              "6 1988-06-01      4.839\n"
            ]
          },
          "metadata": {
            "tags": []
          }
        }
      ]
    },
    {
      "cell_type": "markdown",
      "metadata": {
        "id": "DSIRoNXhX6Po",
        "colab_type": "text"
      },
      "source": [
        "We want to visualize some plots. So we need some library that will assist us in this."
      ]
    },
    {
      "cell_type": "code",
      "metadata": {
        "id": "NSkZXa4wWhqR",
        "colab_type": "code",
        "colab": {}
      },
      "source": [
        "%%R\n",
        "library('ggplot2')"
      ],
      "execution_count": 0,
      "outputs": []
    },
    {
      "cell_type": "code",
      "metadata": {
        "id": "1TF0uGTjxNCJ",
        "colab_type": "code",
        "outputId": "ccd32505-c5ed-41ab-a7e9-d5c9cdc9f5c3",
        "colab": {
          "base_uri": "https://localhost:8080/",
          "height": 496
        }
      },
      "source": [
        "%%R\n",
        "plot(df$CSUSHPINSA)"
      ],
      "execution_count": 0,
      "outputs": [
        {
          "output_type": "display_data",
          "data": {
            "image/png": "[encoded data removed]"
          },
          "metadata": {
            "tags": []
          }
        }
      ]
    },
    {
      "cell_type": "markdown",
      "metadata": {
        "id": "O7QJgxOPYLjq",
        "colab_type": "text"
      },
      "source": [
        "This is obviously not a stationary graph. We will do some differencing by calculating the Returns."
      ]
    },
    {
      "cell_type": "code",
      "metadata": {
        "id": "xfE8qiqTTj5I",
        "colab_type": "code",
        "outputId": "f6d3a546-4ae2-457a-9c7c-f37781f4c00e",
        "colab": {
          "base_uri": "https://localhost:8080/",
          "height": 141
        }
      },
      "source": [
        "%%R\n",
        "df$Returns=c(NA,diff(log(df$CSUSHPINSA))) # Calculate Returns\n",
        "\n",
        "df <- na.omit(df) # Delete Null Values with row\n",
        "\n",
        "head(df) #Visualize the data"
      ],
      "execution_count": 0,
      "outputs": [
        {
          "output_type": "display_data",
          "data": {
            "text/plain": [
              "        DATE CSUSHPINSA      Returns\n",
              "2 1988-02-01      4.775 -0.013933885\n",
              "3 1988-03-01      4.846  0.014759648\n",
              "4 1988-04-01      4.804 -0.008704718\n",
              "5 1988-05-01      4.848  0.009117345\n",
              "6 1988-06-01      4.839 -0.001858161\n",
              "7 1988-07-01      4.892  0.010893130\n"
            ]
          },
          "metadata": {
            "tags": []
          }
        }
      ]
    },
    {
      "cell_type": "code",
      "metadata": {
        "id": "8Vpt6qYwxfEM",
        "colab_type": "code",
        "outputId": "741cb1a6-8864-40ff-f7fb-f673b325d0c9",
        "colab": {
          "base_uri": "https://localhost:8080/",
          "height": 496
        }
      },
      "source": [
        "%%R\n",
        "plot(df$Returns)"
      ],
      "execution_count": 0,
      "outputs": [
        {
          "output_type": "display_data",
          "data": {
            "image/png": "[encoded data removed]"
          },
          "metadata": {
            "tags": []
          }
        }
      ]
    },
    {
      "cell_type": "markdown",
      "metadata": {
        "id": "r7eUvDVlYtId",
        "colab_type": "text"
      },
      "source": [
        "The 'Returns' are more stationary from the graph above. We will still go furhter to test."
      ]
    },
    {
      "cell_type": "markdown",
      "metadata": {
        "id": "-thJSxWCZGQj",
        "colab_type": "text"
      },
      "source": [
        "### Augmented Dickey-Fuller Test"
      ]
    },
    {
      "cell_type": "code",
      "metadata": {
        "id": "6jkKFiu4Y7qk",
        "colab_type": "code",
        "outputId": "c64e73d1-6911-4f81-ed0e-e6ec3c502ef4",
        "colab": {
          "base_uri": "https://localhost:8080/",
          "height": 141
        }
      },
      "source": [
        "%%R\n",
        "adf.test(df$Returns, alternative='stationary')"
      ],
      "execution_count": 0,
      "outputs": [
        {
          "output_type": "display_data",
          "data": {
            "text/plain": [
              "\n",
              "\tAugmented Dickey-Fuller Test\n",
              "\n",
              "data:  df$Returns\n",
              "Dickey-Fuller = -6.0984, Lag order = 6, p-value = 0.01\n",
              "alternative hypothesis: stationary\n",
              "\n"
            ]
          },
          "metadata": {
            "tags": []
          }
        }
      ]
    },
    {
      "cell_type": "markdown",
      "metadata": {
        "id": "86IIeI7EZ5Sh",
        "colab_type": "text"
      },
      "source": [
        "From the `p-value` of the ADF test, we are rejecting the null hypothesis and accepting the alternate hypothesis that the `Returns` is stationary. So further down the line we won't need to differentiate to make it stationary. We would use **ARMA** instead of **ARIMA**."
      ]
    },
    {
      "cell_type": "markdown",
      "metadata": {
        "id": "iDTcqrPkb4LN",
        "colab_type": "text"
      },
      "source": [
        "### Autoregressive Moving Integrated Average Model\n",
        "\n",
        "ARIMA (p,d,q) has both the AR and MA components in the equation.\n",
        "\n",
        "p – the order of the autoregressive model.\n",
        "\n",
        "d – the order required to make the variable stationary.\n",
        "\n",
        " q– the order of the moving average model.\n",
        "\n",
        "But in our case we would keep `d=0` at all times since we have determined that the `Returns` are stationary.\n"
      ]
    },
    {
      "cell_type": "code",
      "metadata": {
        "id": "9eXqaweXdat1",
        "colab_type": "code",
        "outputId": "1c66961e-821a-4e74-bec3-d8cddb264a47",
        "colab": {
          "base_uri": "https://localhost:8080/",
          "height": 496
        }
      },
      "source": [
        "%%R\n",
        "acf(df$Returns)"
      ],
      "execution_count": 0,
      "outputs": [
        {
          "output_type": "display_data",
          "data": {
            "image/png": "[encoded data removed]"
          },
          "metadata": {
            "tags": []
          }
        }
      ]
    },
    {
      "cell_type": "markdown",
      "metadata": {
        "id": "yUcGbTzqkLW4",
        "colab_type": "text"
      },
      "source": [
        "This will show us the lag term in the **AR** part of the **ARMA** model. We can see some evidence of decay after about 4 lags on 1, 4, 8, 12."
      ]
    },
    {
      "cell_type": "code",
      "metadata": {
        "id": "2Fr2jVy0dsbU",
        "colab_type": "code",
        "outputId": "ccd3e4cb-dc48-407e-c3e7-828cbc0edc29",
        "colab": {
          "base_uri": "https://localhost:8080/",
          "height": 496
        }
      },
      "source": [
        "%%R\n",
        "pacf(df$Returns)"
      ],
      "execution_count": 0,
      "outputs": [
        {
          "output_type": "display_data",
          "data": {
            "image/png": "[encoded data removed]"
          },
          "metadata": {
            "tags": []
          }
        }
      ]
    },
    {
      "cell_type": "markdown",
      "metadata": {
        "id": "Q37L_t9jlMt5",
        "colab_type": "text"
      },
      "source": [
        "This will show us the lag term in the **MA** part of the ARMA model. We can see some evidence of decay after about 4 lags on 1, 4, 8, 9."
      ]
    },
    {
      "cell_type": "markdown",
      "metadata": {
        "id": "4EIbRl1clMhU",
        "colab_type": "text"
      },
      "source": [
        "The two models actally look alike. Selecting the best lag to use is really an art rather than a science. 10 different folks would have 10 different choices.\n",
        "We would now choose a new functionality in R that will help us with that choice."
      ]
    },
    {
      "cell_type": "code",
      "metadata": {
        "id": "t-qtcS6wlzmB",
        "colab_type": "code",
        "outputId": "bfd20b6a-b002-4c42-cf3b-eb6690e6d8f3",
        "colab": {
          "base_uri": "https://localhost:8080/",
          "height": 194
        }
      },
      "source": [
        "%%R\n",
        "auto.arima(df$Returns)"
      ],
      "execution_count": 0,
      "outputs": [
        {
          "output_type": "display_data",
          "data": {
            "text/plain": [
              "Series: df$Returns \n",
              "ARIMA(2,0,2) with zero mean \n",
              "\n",
              "Coefficients:\n",
              "        ar1      ar2      ma1     ma2\n",
              "      1.093  -0.8270  -0.9059  0.7767\n",
              "s.e.  0.121   0.0641   0.1161  0.0689\n",
              "\n",
              "sigma^2 estimated as 0.0312:  log likelihood=95.88\n",
              "AIC=-181.77   AICc=-181.56   BIC=-163.26\n"
            ]
          },
          "metadata": {
            "tags": []
          }
        }
      ]
    },
    {
      "cell_type": "markdown",
      "metadata": {
        "id": "zjvmqVcwnpfT",
        "colab_type": "text"
      },
      "source": [
        "Now that we have found the lag terms, we will fit the ARIMA model."
      ]
    },
    {
      "cell_type": "code",
      "metadata": {
        "id": "bW5O2Rw6ZkwE",
        "colab_type": "code",
        "colab": {}
      },
      "source": [
        "%%R\n",
        "fit=arima(df$Returns, order=c(2,0,2))"
      ],
      "execution_count": 0,
      "outputs": []
    },
    {
      "cell_type": "markdown",
      "metadata": {
        "id": "RYI3aRnXoHpO",
        "colab_type": "text"
      },
      "source": [
        "We will now find the residuals and also do a test on those residual."
      ]
    },
    {
      "cell_type": "code",
      "metadata": {
        "id": "S8h_LJGmoE__",
        "colab_type": "code",
        "colab": {}
      },
      "source": [
        "%%R\n",
        "fit_resid=residuals(fit)"
      ],
      "execution_count": 0,
      "outputs": []
    },
    {
      "cell_type": "code",
      "metadata": {
        "id": "RBcjOlUWe1W7",
        "colab_type": "code",
        "outputId": "66cefbb2-0cac-491f-f378-2c4e0dc033d9",
        "colab": {
          "base_uri": "https://localhost:8080/",
          "height": 123
        }
      },
      "source": [
        "%%R\n",
        "Box.test(fit_resid, lag=10, type = 'Ljung-Box')"
      ],
      "execution_count": 0,
      "outputs": [
        {
          "output_type": "display_data",
          "data": {
            "text/plain": [
              "\n",
              "\tBox-Ljung test\n",
              "\n",
              "data:  fit_resid\n",
              "X-squared = 25.655, df = 10, p-value = 0.004233\n",
              "\n"
            ]
          },
          "metadata": {
            "tags": []
          }
        }
      ]
    },
    {
      "cell_type": "markdown",
      "metadata": {
        "id": "-Hsfl28TpAWy",
        "colab_type": "text"
      },
      "source": [
        "### Forcast Using the ARIMA Model"
      ]
    },
    {
      "cell_type": "code",
      "metadata": {
        "id": "qKOTZ4PYe8vw",
        "colab_type": "code",
        "outputId": "bec1a08b-f866-411b-a49e-e4325082a709",
        "colab": {
          "base_uri": "https://localhost:8080/",
          "height": 390
        }
      },
      "source": [
        "%%R\n",
        "my_forecast = forecast(fit, h=20)\n",
        "my_forecast"
      ],
      "execution_count": 0,
      "outputs": [
        {
          "output_type": "display_data",
          "data": {
            "text/plain": [
              "    Point Forecast      Lo 80     Hi 80      Lo 95     Hi 95\n",
              "300  -5.537717e-03 -0.2302625 0.2191871 -0.3492247 0.3381492\n",
              "301  -5.465227e-03 -0.2340788 0.2231484 -0.3550996 0.3441691\n",
              "302   3.796462e-03 -0.2273872 0.2349801 -0.3497684 0.3573613\n",
              "303   1.387574e-02 -0.2173256 0.2450771 -0.3397162 0.3674677\n",
              "304   1.724059e-02 -0.2153443 0.2498255 -0.3384673 0.3729485\n",
              "305   1.257772e-02 -0.2219471 0.2471026 -0.3460971 0.3712526\n",
              "306   4.686614e-03 -0.2301440 0.2395172 -0.3544558 0.3638290\n",
              "307  -9.096031e-05 -0.2352185 0.2350366 -0.3596876 0.3595056\n",
              "308   1.213307e-03 -0.2350222 0.2374489 -0.3600778 0.3625044\n",
              "309   6.597430e-03 -0.2301289 0.2433238 -0.3554442 0.3686391\n",
              "310   1.141169e-02 -0.2253253 0.2481487 -0.3506463 0.3734696\n",
              "311   1.222359e-02 -0.2249928 0.2494400 -0.3505676 0.3750148\n",
              "312   9.125786e-03 -0.2285422 0.2467938 -0.3543560 0.3726076\n",
              "313   5.062109e-03 -0.2326323 0.2427566 -0.3584602 0.3685844\n",
              "314   3.178632e-03 -0.2346587 0.2410159 -0.3605621 0.3669194\n",
              "315   4.481775e-03 -0.2336561 0.2426196 -0.3597187 0.3686822\n",
              "316   7.468091e-03 -0.2307523 0.2456885 -0.3568585 0.3717947\n",
              "317   9.658262e-03 -0.2285815 0.2478980 -0.3546981 0.3740146\n",
              "318   9.583028e-03 -0.2288091 0.2479752 -0.3550063 0.3741723\n",
              "319   7.687005e-03 -0.2308024 0.2461764 -0.3570510 0.3724250\n"
            ]
          },
          "metadata": {
            "tags": []
          }
        }
      ]
    },
    {
      "cell_type": "code",
      "metadata": {
        "id": "-ysmRrM7fAZR",
        "colab_type": "code",
        "outputId": "8fbafd08-6377-4119-e5f4-927f934a8644",
        "colab": {
          "base_uri": "https://localhost:8080/",
          "height": 87
        }
      },
      "source": [
        "%%R\n",
        "accuracy(my_forecast)"
      ],
      "execution_count": 0,
      "outputs": [
        {
          "output_type": "display_data",
          "data": {
            "text/plain": [
              "                       ME      RMSE        MAE      MPE     MAPE     MASE\n",
              "Training set 7.507773e-06 0.1753537 0.06856249 68.01339 144.7124 1.171914\n",
              "                   ACF1\n",
              "Training set 0.00804834\n"
            ]
          },
          "metadata": {
            "tags": []
          }
        }
      ]
    },
    {
      "cell_type": "code",
      "metadata": {
        "id": "pamGS3wS2IUz",
        "colab_type": "code",
        "outputId": "e8b49304-25a8-4f7c-a722-58af8f4f0daf",
        "colab": {
          "base_uri": "https://localhost:8080/",
          "height": 496
        }
      },
      "source": [
        "%%R\n",
        "plot(my_forecast)"
      ],
      "execution_count": 0,
      "outputs": [
        {
          "output_type": "display_data",
          "data": {
            "image/png": "[encoded data removed]"
          },
          "metadata": {
            "tags": []
          }
        }
      ]
    },
    {
      "cell_type": "markdown",
      "metadata": {
        "id": "DO0A_FWKB3Av",
        "colab_type": "text"
      },
      "source": [
        "### Suggested Exogenous Variables\n",
        "\n",
        "1. Location of the property\n",
        "\n",
        "2. Age of the property\n",
        "\n",
        "3. Acreage (area) of the property\n",
        "\n",
        "4. Economic growth of the city\n",
        "\n",
        "5. proximity to public transport\n"
      ]
    },
    {
      "cell_type": "markdown",
      "metadata": {
        "id": "n8LOG89uHimz",
        "colab_type": "text"
      },
      "source": [
        "## Comments\n",
        "\n",
        "The following students did not contribute to this group work.\n",
        "\n",
        "### 1. Kevin Larry Fotso Fono\n",
        "### 2. Sopulu Obi\n",
        "### 3. Matheus Pavarini Schimidt"
      ]
    },
    {
      "cell_type": "code",
      "metadata": {
        "id": "gHCXAh_1IF-d",
        "colab_type": "code",
        "colab": {}
      },
      "source": [
        ""
      ],
      "execution_count": 0,
      "outputs": []
    }
  ]
}