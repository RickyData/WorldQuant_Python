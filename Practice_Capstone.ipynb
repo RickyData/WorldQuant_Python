{
 "cells": [
  {
   "cell_type": "code",
   "execution_count": 1,
   "metadata": {
    "collapsed": true
   },
   "outputs": [],
   "source": [
    "states = \"Alaska Alabama Arkansas American Samoa Arizona California Colorado\""
   ]
  },
  {
   "cell_type": "code",
   "execution_count": 2,
   "metadata": {},
   "outputs": [
    {
     "name": "stdout",
     "output_type": "stream",
     "text": [
      "Alaska Alabama Arkansas American Samoa Arizona California Colorado\n"
     ]
    }
   ],
   "source": [
    "print(states)"
   ]
  },
  {
   "cell_type": "code",
   "execution_count": 3,
   "metadata": {},
   "outputs": [
    {
     "data": {
      "text/plain": [
       "['Alaska',\n",
       " 'Alabama',\n",
       " 'Arkansas',\n",
       " 'American',\n",
       " 'Samoa',\n",
       " 'Arizona',\n",
       " 'California',\n",
       " 'Colorado']"
      ]
     },
     "execution_count": 3,
     "metadata": {},
     "output_type": "execute_result"
    }
   ],
   "source": [
    "states.split()"
   ]
  },
  {
   "cell_type": "code",
   "execution_count": 4,
   "metadata": {},
   "outputs": [
    {
     "name": "stdout",
     "output_type": "stream",
     "text": [
      "['Alaska', 'Alabama', 'Arkansas', 'American', 'Samoa', 'Arizona', 'California', 'Colorado']\n"
     ]
    }
   ],
   "source": [
    "nu_states = states.split()\n",
    "print(nu_states)"
   ]
  },
  {
   "cell_type": "code",
   "execution_count": 1,
   "metadata": {},
   "outputs": [
    {
     "name": "stdout",
     "output_type": "stream",
     "text": [
      "Time Period,1,2,3,4,5,6,7,8,9,\n",
      "\n",
      "Value,193.09,181.42,175.1,182.66,169.47,172.02,169.86,148.43,,\n",
      "\n",
      ",,,,,,,,,,\n",
      "\n",
      ",,,,,,,,,,\n",
      "\n",
      ",,,,,,,,,,Reason for picking Facebook stock\n",
      "\n",
      ",,,,,,,,,,\"Due the scandal over data issues via Cambridge Analytica, the stock has seen a fair amount of movement downwards over the last few months which will be good for linear regression studies and moving average strategies. \"\n",
      "\n",
      ",,,,,,,,,,The data set was linearly spreadout to the eye so I chose it\n",
      "\n"
     ]
    }
   ],
   "source": [
    "infile = open('facebook.csv', 'r')\n",
    "for str1 in infile:\n",
    "    print(str1)\n",
    "infile.close()"
   ]
  },
  {
   "cell_type": "code",
   "execution_count": 9,
   "metadata": {},
   "outputs": [
    {
     "name": "stdout",
     "output_type": "stream",
     "text": [
      "Time Period,1,2,3,4,5,6,7,8\n",
      "\n",
      "Value,193.09,181.42,175.1,182.66,169.47,172.02,169.86,148.43\n",
      "\n"
     ]
    }
   ],
   "source": [
    "infile = open('FB_Prices.csv', 'r')\n",
    "s1 = infile.readline()\n",
    "s2 = infile.readline()\n",
    "print(s1)\n",
    "print(s2)\n",
    "infile.close()"
   ]
  },
  {
   "cell_type": "code",
   "execution_count": 10,
   "metadata": {
    "collapsed": true
   },
   "outputs": [],
   "source": [
    "s1 = s1.rstrip('\\n')\n",
    "s2 = s2.rstrip('\\n')"
   ]
  },
  {
   "cell_type": "code",
   "execution_count": 12,
   "metadata": {},
   "outputs": [
    {
     "ename": "AttributeError",
     "evalue": "'list' object has no attribute 'split'",
     "output_type": "error",
     "traceback": [
      "\u001b[1;31m---------------------------------------------------------------------------\u001b[0m",
      "\u001b[1;31mAttributeError\u001b[0m                            Traceback (most recent call last)",
      "\u001b[1;32m<ipython-input-12-5781eb794fc6>\u001b[0m in \u001b[0;36m<module>\u001b[1;34m()\u001b[0m\n\u001b[1;32m----> 1\u001b[1;33m \u001b[0ms1\u001b[0m \u001b[1;33m=\u001b[0m \u001b[0ms1\u001b[0m\u001b[1;33m.\u001b[0m\u001b[0msplit\u001b[0m\u001b[1;33m(\u001b[0m\u001b[1;34m','\u001b[0m\u001b[1;33m)\u001b[0m\u001b[1;33m\u001b[0m\u001b[0m\n\u001b[0m\u001b[0;32m      2\u001b[0m \u001b[0ms1\u001b[0m\u001b[1;33m\u001b[0m\u001b[0m\n",
      "\u001b[1;31mAttributeError\u001b[0m: 'list' object has no attribute 'split'"
     ]
    }
   ],
   "source": [
    "s1 = s1.split(',')\n",
    "s1"
   ]
  },
  {
   "cell_type": "code",
   "execution_count": 13,
   "metadata": {
    "collapsed": true
   },
   "outputs": [],
   "source": [
    "s2 = s2.split(',')\n"
   ]
  },
  {
   "cell_type": "code",
   "execution_count": 14,
   "metadata": {},
   "outputs": [
    {
     "name": "stdout",
     "output_type": "stream",
     "text": [
      "['Time Period', '1', '2', '3', '4', '5', '6', '7', '8']\n",
      "['Value', '193.09', '181.42', '175.1', '182.66', '169.47', '172.02', '169.86', '148.43']\n"
     ]
    }
   ],
   "source": [
    "print(s1)\n",
    "print(s2)"
   ]
  },
  {
   "cell_type": "code",
   "execution_count": 15,
   "metadata": {},
   "outputs": [
    {
     "data": {
      "text/plain": [
       "['1', '2', '3', '4', '5', '6', '7', '8']"
      ]
     },
     "execution_count": 15,
     "metadata": {},
     "output_type": "execute_result"
    }
   ],
   "source": [
    "s1 = s1[1:len(s1)]\n",
    "s1"
   ]
  },
  {
   "cell_type": "code",
   "execution_count": 16,
   "metadata": {},
   "outputs": [
    {
     "data": {
      "text/plain": [
       "['193.09', '181.42', '175.1', '182.66', '169.47', '172.02', '169.86', '148.43']"
      ]
     },
     "execution_count": 16,
     "metadata": {},
     "output_type": "execute_result"
    }
   ],
   "source": [
    "s2 = s2[1:len(s2)]\n",
    "s2"
   ]
  },
  {
   "cell_type": "code",
   "execution_count": 30,
   "metadata": {},
   "outputs": [
    {
     "data": {
      "text/plain": [
       "[1, 2, 3, 4, 5, 6, 7, 8, 9, 9]"
      ]
     },
     "execution_count": 30,
     "metadata": {},
     "output_type": "execute_result"
    }
   ],
   "source": [
    "\n",
    "Time_Period1 = Time_Period\n",
    "Time_Period1"
   ]
  },
  {
   "cell_type": "code",
   "execution_count": 31,
   "metadata": {
    "collapsed": true
   },
   "outputs": [],
   "source": [
    "Time_Period1.append(11)"
   ]
  },
  {
   "cell_type": "code",
   "execution_count": 32,
   "metadata": {},
   "outputs": [
    {
     "data": {
      "text/plain": [
       "[1, 2, 3, 4, 5, 6, 7, 8, 9, 9, 11]"
      ]
     },
     "execution_count": 32,
     "metadata": {},
     "output_type": "execute_result"
    }
   ],
   "source": [
    "Time_Period1"
   ]
  },
  {
   "cell_type": "code",
   "execution_count": 28,
   "metadata": {},
   "outputs": [
    {
     "name": "stdout",
     "output_type": "stream",
     "text": [
      "[1, 2, 3, 4, 5, 6, 7, 8, 9, 9]\n"
     ]
    }
   ],
   "source": [
    "print(Time_Period)"
   ]
  },
  {
   "cell_type": "code",
   "execution_count": 17,
   "metadata": {},
   "outputs": [
    {
     "data": {
      "text/plain": [
       "[1, 2, 3, 4, 5, 6, 7, 8]"
      ]
     },
     "execution_count": 17,
     "metadata": {},
     "output_type": "execute_result"
    }
   ],
   "source": [
    "Time_Period = []\n",
    "for x in range(0,len(s1)):\n",
    "    Time_Period.append(int(s1[x]))\n",
    "    \n",
    "Time_Period"
   ]
  },
  {
   "cell_type": "code",
   "execution_count": 18,
   "metadata": {},
   "outputs": [
    {
     "data": {
      "text/plain": [
       "[193.09, 181.42, 175.1, 182.66, 169.47, 172.02, 169.86, 148.43]"
      ]
     },
     "execution_count": 18,
     "metadata": {},
     "output_type": "execute_result"
    }
   ],
   "source": [
    "Value = []\n",
    "for x in range(0,len(s2)):\n",
    "    Value.append(float(s2[x]))\n",
    "    \n",
    "Value"
   ]
  },
  {
   "cell_type": "markdown",
   "metadata": {},
   "source": [
    "# Using List Comprehensions to solve the same"
   ]
  },
  {
   "cell_type": "code",
   "execution_count": 10,
   "metadata": {},
   "outputs": [
    {
     "data": {
      "text/plain": [
       "[1, 2, 3, 4, 5, 6, 7, 8, 9]"
      ]
     },
     "execution_count": 10,
     "metadata": {},
     "output_type": "execute_result"
    }
   ],
   "source": [
    "values1 = [int(s1[x]) for x in range(0, len(s1))]\n",
    "values1"
   ]
  },
  {
   "cell_type": "code",
   "execution_count": 14,
   "metadata": {},
   "outputs": [
    {
     "data": {
      "text/plain": [
       "[181.42, 175.1, 182.66, 169.47, 172.02, 169.86, 148.43]"
      ]
     },
     "execution_count": 14,
     "metadata": {},
     "output_type": "execute_result"
    }
   ],
   "source": [
    "t_period1 = [float(s2[x]) for x in range(0, len(s2))]\n",
    "t_period1"
   ]
  },
  {
   "cell_type": "code",
   "execution_count": 19,
   "metadata": {
    "collapsed": true
   },
   "outputs": [],
   "source": [
    "def ExponentialMovingAverage(alpha, prices):\n",
    "    ema = []\n",
    "    ema.append(prices[0])\n",
    "    for x in range(0, len(prices)):\n",
    "        ema.append(round(ema[x] + alpha * (prices[x] - ema[x]),2))\n",
    "    return ema"
   ]
  },
  {
   "cell_type": "code",
   "execution_count": 21,
   "metadata": {
    "collapsed": true
   },
   "outputs": [],
   "source": [
    "a = 0.35"
   ]
  },
  {
   "cell_type": "code",
   "execution_count": 22,
   "metadata": {},
   "outputs": [
    {
     "name": "stdout",
     "output_type": "stream",
     "text": [
      "[193.09, 193.09, 189.01, 184.14, 183.62, 178.67, 176.34, 174.07, 165.1]\n"
     ]
    }
   ],
   "source": [
    "print(ExponentialMovingAverage(a, Value))"
   ]
  },
  {
   "cell_type": "code",
   "execution_count": null,
   "metadata": {},
   "outputs": [
    {
     "name": "stdout",
     "output_type": "stream",
     "text": [
      "Please enter a value for alpha between 0 and 1:0.98\n",
      "Your choice is 0.98\n",
      "Invalid entry. Please try again: \n"
     ]
    }
   ],
   "source": [
    "import matplotlib.pyplot as plt\n",
    "\n",
    "run_again = True\n",
    "while run_again:\n",
    "    try:\n",
    "        run_again = False\n",
    "        alpha = input('Please enter a value for alpha between 0 and 1:')\n",
    "        alpha = float(alpha)\n",
    "        if alpha > 0 and alpha < 1:\n",
    "            print(\"Your choice is %.2f\" % alpha)\n",
    "            ema = ExponentialMovingAverage(alpha, Value)\n",
    "            # plotting the points \n",
    "            plt.plot(Value,Time_Period)\n",
    "\n",
    "            plt.plot(Value,ema)\n",
    "\n",
    "            # naming the x axis\n",
    "            plt.xlabel('Time Period')\n",
    "            # naming the y axis\n",
    "            plt.ylabel('Values')\n",
    "\n",
    "            # giving a title to my graph\n",
    "            plt.title('Value and EMA Smoothing')\n",
    "\n",
    "            # function to show the plot\n",
    "            plt.show()\n",
    "           \n",
    "        \n",
    "            # Loop for call back\n",
    "            incorrect = True\n",
    "            while incorrect:\n",
    "                incorrect = False\n",
    "                print('Do you wish to test another value of alpha?')\n",
    "                ans = input(\"Input 'Y' or 'N': \")\n",
    "                      \n",
    "                if ans.upper()== 'Y':\n",
    "                    run_again = True\n",
    "                elif ans.upper() == 'N':\n",
    "                    print(\"Thank you for your time.\")\n",
    "                    break\n",
    "                    \n",
    "                else:\n",
    "                    print('Invalid entry. Please try again')\n",
    "                    incorrect = True\n",
    "            \n",
    "            \n",
    "        else:\n",
    "            print('Invalid entry. Please try again')\n",
    "            run_again = True\n",
    "        \n",
    "    except:\n",
    "        print(\"Invalid entry. Please try again: \")\n",
    "        run_again = True\n",
    "       \n",
    "\n",
    "        "
   ]
  },
  {
   "cell_type": "code",
   "execution_count": 2,
   "metadata": {},
   "outputs": [
    {
     "ename": "NameError",
     "evalue": "name 'ema' is not defined",
     "output_type": "error",
     "traceback": [
      "\u001b[1;31m---------------------------------------------------------------------------\u001b[0m",
      "\u001b[1;31mNameError\u001b[0m                                 Traceback (most recent call last)",
      "\u001b[1;32m<ipython-input-2-20932b38da90>\u001b[0m in \u001b[0;36m<module>\u001b[1;34m()\u001b[0m\n\u001b[1;32m----> 1\u001b[1;33m \u001b[0mema\u001b[0m\u001b[1;33m\u001b[0m\u001b[0m\n\u001b[0m",
      "\u001b[1;31mNameError\u001b[0m: name 'ema' is not defined"
     ]
    }
   ],
   "source": [
    "ema"
   ]
  },
  {
   "cell_type": "code",
   "execution_count": null,
   "metadata": {},
   "outputs": [
    {
     "name": "stdout",
     "output_type": "stream",
     "text": [
      "Input anything :dames\n",
      "Your input is: dames\n",
      "do you wish to continue? ('Y' or 'N')n\n",
      "go back and enter the right thing\n",
      "Input anything :s ndflkjsqhdoi\n",
      "Your input is: s ndflkjsqhdoi\n",
      "do you wish to continue? ('Y' or 'N')y\n",
      "go back and enter the right thing\n"
     ]
    }
   ],
   "source": [
    "while True:\n",
    "    enquiry = input(\"Input anything :\")  \n",
    "    print(\"Your input is:\", enquiry)\n",
    "    ansa = input(\"do you wish to continue? ('Y' or 'N')\")\n",
    "    while ansa.upper() == 'Y' or ansa == 'N':\n",
    "        if ansa.upper() == 'Y':\n",
    "            break\n",
    "        elif ansa.upper() == 'N':\n",
    "            print('thanks for your time.')\n",
    "    print('go back and enter the right thing')"
   ]
  },
  {
   "cell_type": "code",
   "execution_count": null,
   "metadata": {
    "collapsed": true
   },
   "outputs": [],
   "source": [
    "import plotly.plotly as py\n",
    "import plotly.graph_objs as go\n",
    "\n",
    "import pandas as pd\n",
    "\n",
    "#df = pd.read_csv(\"https://raw.githubusercontent.com/plotly/datasets/master/finance-charts-apple.csv\")\n",
    "\n",
    "trace_high = go.Scatter(\n",
    "                x= Time_Period,\n",
    "                y= Value,\n",
    "                name = \"AAPL High\",\n",
    "                line = dict(color = '#17BECF'),\n",
    "                opacity = 0.8)\n",
    "\n",
    "trace_low = go.Scatter(\n",
    "                x= Time_Period,\n",
    "                y=Value,\n",
    "                name = \"AAPL Low\",\n",
    "                line = dict(color = '#7F7F7F'),\n",
    "                opacity = 0.8)\n",
    "\n",
    "data = [trace_high,trace_low]\n",
    "\n",
    "layout = dict(\n",
    "    title = \"Manually Set Date Range\",\n",
    "    xaxis = dict(\n",
    "        range = ['2016-07-01','2016-12-31'])\n",
    ")\n",
    "\n",
    "fig = dict(data=data, layout=layout)\n",
    "py.iplot(fig, filename = \"Manually Set Range\")"
   ]
  },
  {
   "cell_type": "code",
   "execution_count": null,
   "metadata": {
    "collapsed": true
   },
   "outputs": [],
   "source": [
    "def GradeEntry():\n",
    "    grade = 0.0\n",
    "    inputinvalid = True\n",
    "    while inputinvalid:\n",
    "        try:\n",
    "            inputinvalid = False\n",
    "            grade = float(input(\"Please input the next grade.\"))\n",
    "        except:\n",
    "            print(\"Invalid number, Please try again: \")\n",
    "            inputinvalid = True\n",
    "    return grade"
   ]
  },
  {
   "cell_type": "code",
   "execution_count": null,
   "metadata": {
    "collapsed": true
   },
   "outputs": [],
   "source": [
    "print(\"Grade Program\")\n",
    "g1 = GradeEntry()\n",
    "g2 = GradeEntry()\n",
    "g3 = GradeEntry()\n",
    "g4 = GradeEntry()\n",
    "g5 = GradeEntry()\n",
    "g6 = GradeEntry()"
   ]
  }
 ],
 "metadata": {
  "kernelspec": {
   "display_name": "Python 3",
   "language": "python",
   "name": "python3"
  },
  "language_info": {
   "codemirror_mode": {
    "name": "ipython",
    "version": 3
   },
   "file_extension": ".py",
   "mimetype": "text/x-python",
   "name": "python",
   "nbconvert_exporter": "python",
   "pygments_lexer": "ipython3",
   "version": "3.6.3"
  }
 },
 "nbformat": 4,
 "nbformat_minor": 2
}
