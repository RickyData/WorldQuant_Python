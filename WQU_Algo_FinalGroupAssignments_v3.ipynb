{
  "nbformat": 4,
  "nbformat_minor": 0,
  "metadata": {
    "colab": {
      "name": " WQU_Algo_FinalGroupAssignments_v3.ipynb",
      "provenance": [],
      "collapsed_sections": [],
      "include_colab_link": true
    },
    "kernelspec": {
      "name": "python3",
      "display_name": "Python 3"
    },
    "accelerator": "GPU"
  },
  "cells": [
    {
      "cell_type": "markdown",
      "metadata": {
        "id": "view-in-github",
        "colab_type": "text"
      },
      "source": [
        "<a href=\"https://colab.research.google.com/github/RickyMacharm/WorldQuant_Python/blob/master/WQU_Algo_FinalGroupAssignments_v3.ipynb\" target=\"_parent\"><img src=\"https://colab.research.google.com/assets/colab-badge.svg\" alt=\"Open In Colab\"/></a>"
      ]
    },
    {
      "cell_type": "markdown",
      "metadata": {
        "id": "OTBiiObspYJm",
        "colab_type": "text"
      },
      "source": [
        "###First Time Run\n",
        "Run his cell only if you are running this notebook for the very first time on colab or on a new `Google` account. If the cell is commented, Higlight the contents and use a combination of `'ctrl'` plus `'/'` keys to uncomment the cell.\n",
        "\n",
        "Click on the url given:( `Go to this URL in a browser: https://accounts.google.com/o/oauth2/XXXXX.....`) after you run the cell and choose the `Google` account you intend to use for running colab and get the authorization code generated."
      ]
    },
    {
      "cell_type": "code",
      "metadata": {
        "id": "1zhIY8_OvSfA",
        "colab_type": "code",
        "colab": {}
      },
      "source": [
        "# from fastai.basics import *\n",
        "# from google.colab import drive\n",
        "# drive.mount('/content/gdrive', force_remount=True)\n",
        "# root_dir = \"/content/gdrive/My Drive/\"\n",
        "# base_dir = root_dir + 'WQU_R/'\n",
        "\n",
        "# path = Path(base_dir)\n",
        "\n",
        "# path.mkdir(parents=True, exist_ok=True)\n",
        "\n",
        "\n",
        "# import os\n",
        "# os.chdir(path)"
      ],
      "execution_count": 0,
      "outputs": []
    },
    {
      "cell_type": "markdown",
      "metadata": {
        "id": "A7vIIhnBqICx",
        "colab_type": "text"
      },
      "source": [
        "### Next Time Run\n",
        "If you have ran this notebook on colab on the same Google account before now and all the folders have been created, you can run this cell after the first runtime has expired. Colab as of 2019 only allows `12` hours of free runtime before resetting.\n",
        "\n",
        "If the cell is commented, Higlight the contents and use a combination of `'ctrl'` plus `'/'` keys to uncomment the cell.\n",
        "\n",
        "Click on the url given:( `Go to this URL in a browser: https://accounts.google.com/o/oauth2/XXXXX.....`) after you run the cell and choose the `Google` account you intend to use for running colab and get the authorization code generated."
      ]
    },
    {
      "cell_type": "code",
      "metadata": {
        "id": "CCHiTT-hzdER",
        "colab_type": "code",
        "outputId": "82ea791d-b0bf-444e-fe46-d2877a2a60d3",
        "colab": {
          "base_uri": "https://localhost:8080/",
          "height": 54
        }
      },
      "source": [
        "from google.colab import drive\n",
        "drive.mount('/content/drive')\n",
        "\n",
        "from fastai.basics import *\n",
        "path = Path('/content/drive/My Drive/WQU_R')\n",
        "\n",
        "#we want to change the present working directory to that of path assigned above.\n",
        "import os\n",
        "os.chdir(path)"
      ],
      "execution_count": 0,
      "outputs": [
        {
          "output_type": "stream",
          "text": [
            "Drive already mounted at /content/drive; to attempt to forcibly remount, call drive.mount(\"/content/drive\", force_remount=True).\n"
          ],
          "name": "stdout"
        }
      ]
    },
    {
      "cell_type": "markdown",
      "metadata": {
        "id": "Hpcf0pxFi-MA",
        "colab_type": "text"
      },
      "source": [
        "# Part 1: R\n",
        "We will be running this part using the R programming language."
      ]
    },
    {
      "cell_type": "markdown",
      "metadata": {
        "id": "ANNymlCj4cA2",
        "colab_type": "text"
      },
      "source": [
        "### Running R on Colab\n",
        "In order to run R successfully on colab, we need to execute the following code `%load_ext rpy2.ipython` in a cell first of all."
      ]
    },
    {
      "cell_type": "code",
      "metadata": {
        "id": "tAwIHuCBnLUs",
        "colab_type": "code",
        "colab": {}
      },
      "source": [
        "%load_ext rpy2.ipython"
      ],
      "execution_count": 0,
      "outputs": []
    },
    {
      "cell_type": "markdown",
      "metadata": {
        "id": "Y83QMmdi5Kvk",
        "colab_type": "text"
      },
      "source": [
        "For every cell we next run, if the codes are R codes, we would need to remember to include `%%R` at the begining of the cell."
      ]
    },
    {
      "cell_type": "markdown",
      "metadata": {
        "id": "RvTITt8U-xeh",
        "colab_type": "text"
      },
      "source": [
        "To be able to access the S&P500 data, we need to use a library called `quantmod`. We check if it is installed, if not we installing it before bringing it out to use.\n",
        "\n",
        "We also check for other libraries like `'lattice'`.\n"
      ]
    },
    {
      "cell_type": "code",
      "metadata": {
        "id": "hkw0z5MknzBC",
        "colab_type": "code",
        "colab": {}
      },
      "source": [
        "%%R\n",
        "if (!require(\"quantmod\")) {\n",
        "      install.packages(\"quantmod\")\n",
        "      library(quantmod)\n",
        "  }"
      ],
      "execution_count": 0,
      "outputs": []
    },
    {
      "cell_type": "code",
      "metadata": {
        "id": "yVzD_8Mjn01V",
        "colab_type": "code",
        "outputId": "8c055215-8a10-45f3-e16a-c213552ab1d6",
        "colab": {
          "base_uri": "https://localhost:8080/",
          "height": 90
        }
      },
      "source": [
        "%%R\n",
        "if (!require(\"lattice\")) {\n",
        "      install.packages(\"lattice\")\n",
        "      library(lattice)\n",
        "  }"
      ],
      "execution_count": 0,
      "outputs": [
        {
          "output_type": "stream",
          "text": [
            "/usr/local/lib/python3.6/dist-packages/rpy2/rinterface/__init__.py:146: RRuntimeWarning: Loading required package: lattice\n",
            "\n",
            "  warnings.warn(x, RRuntimeWarning)\n"
          ],
          "name": "stderr"
        }
      ]
    },
    {
      "cell_type": "markdown",
      "metadata": {
        "id": "aVkBoZng_xuh",
        "colab_type": "text"
      },
      "source": [
        "The ticker symbol is `'^GPSC'`. We use the quantmod function getSymbols, and pass a string as a first argument to identify the desired ticker symbol, pass 'yahoo' to src for `Yahoo! Finance` or leave it out as it is the default source, and 'from' and 'to' specify date ranges.\n",
        " \n",
        "The default behavior for getSymbols is to load data directly into the global environment, with the object being named after the loaded ticker symbol. \n"
      ]
    },
    {
      "cell_type": "code",
      "metadata": {
        "id": "Lot6OsZ9sfaH",
        "colab_type": "code",
        "colab": {}
      },
      "source": [
        "%%R\n",
        "start <- '1950-01-01'; end <- '2019-10-01'"
      ],
      "execution_count": 0,
      "outputs": []
    },
    {
      "cell_type": "code",
      "metadata": {
        "id": "_FUbiLYL5qqT",
        "colab_type": "code",
        "outputId": "2506aa12-cb25-411f-f5e0-8730efab8510",
        "colab": {
          "base_uri": "https://localhost:8080/",
          "height": 34
        }
      },
      "source": [
        "%%R\n",
        "getSymbols(\"^GSPC\", src = \"yahoo\", from = start, to = end)\n",
        "\n",
        "\n"
      ],
      "execution_count": 0,
      "outputs": [
        {
          "output_type": "display_data",
          "data": {
            "text/plain": [
              "[1] \"^GSPC\"\n"
            ]
          },
          "metadata": {
            "tags": []
          }
        }
      ]
    },
    {
      "cell_type": "markdown",
      "metadata": {
        "id": "pFyLJvD1nuKX",
        "colab_type": "text"
      },
      "source": [
        "Daily returns calculated on the close."
      ]
    },
    {
      "cell_type": "code",
      "metadata": {
        "id": "WveMpygwnCsD",
        "colab_type": "code",
        "colab": {}
      },
      "source": [
        "%%R\n",
        "snp_returns <- dailyReturn(Cl(GSPC), type='log')"
      ],
      "execution_count": 0,
      "outputs": []
    },
    {
      "cell_type": "markdown",
      "metadata": {
        "id": "0bpjIAXSoC-i",
        "colab_type": "text"
      },
      "source": [
        "Let us see how our data looks."
      ]
    },
    {
      "cell_type": "code",
      "metadata": {
        "id": "3hiby4V9vXpS",
        "colab_type": "code",
        "outputId": "23bc12c8-35c2-4e51-822d-f966b6dd3254",
        "colab": {
          "base_uri": "https://localhost:8080/",
          "height": 141
        }
      },
      "source": [
        "%%R\n",
        "\n",
        "head(snp_returns)"
      ],
      "execution_count": 0,
      "outputs": [
        {
          "output_type": "display_data",
          "data": {
            "text/plain": [
              "           daily.returns\n",
              "1950-01-03   0.000000000\n",
              "1950-01-04   0.011340020\n",
              "1950-01-05   0.004736539\n",
              "1950-01-06   0.002948985\n",
              "1950-01-09   0.005872007\n",
              "1950-01-10  -0.002931635\n"
            ]
          },
          "metadata": {
            "tags": []
          }
        }
      ]
    },
    {
      "cell_type": "markdown",
      "metadata": {
        "id": "0-PxOccrtYvw",
        "colab_type": "text"
      },
      "source": [
        "We want to also calculate some  indicators. We will need the closing prices of the GSPC. The next line of codes would helo us with that.\n",
        "\n"
      ]
    },
    {
      "cell_type": "code",
      "metadata": {
        "id": "WPB71wIbAZPv",
        "colab_type": "code",
        "outputId": "7eacc9c5-b729-49f1-956f-e26b4039f51d",
        "colab": {
          "base_uri": "https://localhost:8080/",
          "height": 141
        }
      },
      "source": [
        "%%R\n",
        "snp_close <- GSPC[,'GSPC.Close']\n",
        "\n",
        "head(snp_close)\n"
      ],
      "execution_count": 0,
      "outputs": [
        {
          "output_type": "display_data",
          "data": {
            "text/plain": [
              "           GSPC.Close\n",
              "1950-01-03      16.66\n",
              "1950-01-04      16.85\n",
              "1950-01-05      16.93\n",
              "1950-01-06      16.98\n",
              "1950-01-09      17.08\n",
              "1950-01-10      17.03\n"
            ]
          },
          "metadata": {
            "tags": []
          }
        }
      ]
    },
    {
      "cell_type": "markdown",
      "metadata": {
        "id": "yTKY22QZK71Z",
        "colab_type": "text"
      },
      "source": [
        "### Technical Indicators\n",
        "The next sets of codes would be for the indicators and thevariable names chosen would be self explanatory."
      ]
    },
    {
      "cell_type": "code",
      "metadata": {
        "id": "wauzptNu0xm3",
        "colab_type": "code",
        "outputId": "952261b2-bb11-44f5-ac0f-f15e926ae97a",
        "colab": {
          "base_uri": "https://localhost:8080/",
          "height": 141
        }
      },
      "source": [
        "%%R\n",
        "# Moving average of period 10\n",
        "average10<- rollapply(snp_close,10,mean)\n",
        "tail(average10)"
      ],
      "execution_count": 0,
      "outputs": [
        {
          "output_type": "display_data",
          "data": {
            "text/plain": [
              "           GSPC.Close\n",
              "2019-09-23   2999.831\n",
              "2019-09-24   2998.552\n",
              "2019-09-25   2996.946\n",
              "2019-09-26   2993.751\n",
              "2019-09-27   2989.191\n",
              "2019-09-30   2987.069\n"
            ]
          },
          "metadata": {
            "tags": []
          }
        }
      ]
    },
    {
      "cell_type": "code",
      "metadata": {
        "id": "rXXPiaPrLjWG",
        "colab_type": "code",
        "outputId": "06d64754-4451-4cb5-a8ab-9ba7008903ff",
        "colab": {
          "base_uri": "https://localhost:8080/",
          "height": 141
        }
      },
      "source": [
        "%%R\n",
        "# Moving average of period 25\n",
        "average25<- rollapply(snp_close,25,mean)\n",
        "tail(average25)"
      ],
      "execution_count": 0,
      "outputs": [
        {
          "output_type": "display_data",
          "data": {
            "text/plain": [
              "           GSPC.Close\n",
              "2019-09-23   2951.227\n",
              "2019-09-24   2952.945\n",
              "2019-09-25   2956.319\n",
              "2019-09-26   2958.447\n",
              "2019-09-27   2960.000\n",
              "2019-09-30   2965.186\n"
            ]
          },
          "metadata": {
            "tags": []
          }
        }
      ]
    },
    {
      "cell_type": "code",
      "metadata": {
        "id": "zskxdBxHMvPR",
        "colab_type": "code",
        "outputId": "acf60853-fb12-4a09-f55d-0b349689caca",
        "colab": {
          "base_uri": "https://localhost:8080/",
          "height": 265
        }
      },
      "source": [
        "%%R\n",
        "#Implementing Standard Deviation\n",
        "std10<- rollapply(snp_close,10,sd)\n",
        "print(tail(std10))\n",
        "\n",
        "std20<- rollapply(snp_close,20,sd)\n",
        "print(tail(std20))"
      ],
      "execution_count": 0,
      "outputs": [
        {
          "output_type": "display_data",
          "data": {
            "text/plain": [
              "           GSPC.Close\n",
              "2019-09-23   9.603544\n",
              "2019-09-24  12.910582\n",
              "2019-09-25  13.564233\n",
              "2019-09-26  14.015626\n",
              "2019-09-27  16.314585\n",
              "2019-09-30  16.426933\n",
              "           GSPC.Close\n",
              "2019-09-23   47.74664\n",
              "2019-09-24   43.38356\n",
              "2019-09-25   36.79192\n",
              "2019-09-26   30.82199\n",
              "2019-09-27   28.47530\n",
              "2019-09-30   25.60808\n"
            ]
          },
          "metadata": {
            "tags": []
          }
        }
      ]
    },
    {
      "cell_type": "code",
      "metadata": {
        "id": "aVxJqcKvNlAG",
        "colab_type": "code",
        "outputId": "bf9eba9b-8fc4-4420-8807-ab6716e54e8d",
        "colab": {
          "base_uri": "https://localhost:8080/",
          "height": 265
        }
      },
      "source": [
        "%%R\n",
        "# implementing the Relative Strength Index (RSI)\n",
        "\n",
        "rsi5<- RSI(snp_close,5,\"SMA\")\n",
        "print(tail(rsi5))\n",
        "\n",
        "rsi14<- RSI(snp_close,14,\"SMA\")\n",
        "print(tail(rsi14))"
      ],
      "execution_count": 0,
      "outputs": [
        {
          "output_type": "display_data",
          "data": {
            "text/plain": [
              "                 rsi\n",
              "2019-09-23 37.038781\n",
              "2019-09-24  2.640715\n",
              "2019-09-25 31.322748\n",
              "2019-09-26 27.804033\n",
              "2019-09-27 27.342114\n",
              "2019-09-30 40.770715\n",
              "                rsi\n",
              "2019-09-23 80.69048\n",
              "2019-09-24 60.83622\n",
              "2019-09-25 53.92378\n",
              "2019-09-26 49.53651\n",
              "2019-09-27 43.75006\n",
              "2019-09-30 49.09935\n"
            ]
          },
          "metadata": {
            "tags": []
          }
        }
      ]
    },
    {
      "cell_type": "code",
      "metadata": {
        "id": "NBMeKrakOCTL",
        "colab_type": "code",
        "outputId": "b4737e34-df81-4f9d-cd18-cb041a585bb6",
        "colab": {
          "base_uri": "https://localhost:8080/",
          "height": 265
        }
      },
      "source": [
        "%%R\n",
        "# Implementing the Moving Average Convergence Divergergence (MACD)\n",
        "\n",
        "macd12269<- MACD(snp_close,12,26,9,\"SMA\")\n",
        "print(tail(macd12269))\n",
        "\n",
        "macd7205<- MACD(snp_close,7,20,5,\"SMA\")\n",
        "print(tail(macd7205))"
      ],
      "execution_count": 0,
      "outputs": [
        {
          "output_type": "display_data",
          "data": {
            "text/plain": [
              "                macd   signal\n",
              "2019-09-23 1.6096719 1.420868\n",
              "2019-09-24 1.4723218 1.497796\n",
              "2019-09-25 1.4096102 1.544999\n",
              "2019-09-26 1.3029172 1.554788\n",
              "2019-09-27 1.1434720 1.520898\n",
              "2019-09-30 0.9803877 1.456131\n",
              "                 macd    signal\n",
              "2019-09-23  1.2858782 1.6630694\n",
              "2019-09-24  0.9389598 1.4834087\n",
              "2019-09-25  0.6796581 1.2611521\n",
              "2019-09-26  0.3933413 0.9835116\n",
              "2019-09-27  0.1151935 0.6826062\n",
              "2019-09-30 -0.1131568 0.4027992\n"
            ]
          },
          "metadata": {
            "tags": []
          }
        }
      ]
    },
    {
      "cell_type": "code",
      "metadata": {
        "id": "2xsi5CxPOvsJ",
        "colab_type": "code",
        "outputId": "0ff786ce-4e71-482b-a752-103b85b280c5",
        "colab": {
          "base_uri": "https://localhost:8080/",
          "height": 141
        }
      },
      "source": [
        "%%R\n",
        "# Implementing Bollinger Bands\n",
        "\n",
        "bollinger_bands<- BBands(snp_close,20,\"SMA\",2)\n",
        "\n",
        "print(tail(bollinger_bands))"
      ],
      "execution_count": 0,
      "outputs": [
        {
          "output_type": "display_data",
          "data": {
            "text/plain": [
              "                 dn     mavg       up      pctB\n",
              "2019-09-23 2870.026 2963.101 3056.176 0.6540637\n",
              "2019-09-24 2882.942 2967.512 3052.082 0.4946087\n",
              "2019-09-25 2901.577 2973.297 3045.018 0.5806784\n",
              "2019-09-26 2917.698 2977.782 3037.865 0.4986569\n",
              "2019-09-27 2924.133 2979.642 3035.151 0.3391963\n",
              "2019-09-30 2932.237 2982.156 3032.075 0.4457523\n"
            ]
          },
          "metadata": {
            "tags": []
          }
        }
      ]
    },
    {
      "cell_type": "markdown",
      "metadata": {
        "id": "a6TxFhAiRYxk",
        "colab_type": "text"
      },
      "source": [
        "we now calculate the returns over the\n",
        "last 25 days."
      ]
    },
    {
      "cell_type": "code",
      "metadata": {
        "id": "0OYME6ku3d4D",
        "colab_type": "code",
        "outputId": "9ec651c1-402c-4381-8962-a807997caff9",
        "colab": {
          "base_uri": "https://localhost:8080/",
          "height": 141
        }
      },
      "source": [
        "%%R\n",
        "lagreturn<- (snp_close - Lag(snp_close,25)) / Lag(snp_close,25)\n",
        "\n",
        "tail(lagreturn)"
      ],
      "execution_count": 0,
      "outputs": [
        {
          "output_type": "display_data",
          "data": {
            "text/plain": [
              "           GSPC.Close\n",
              "2019-09-23 0.03569108\n",
              "2019-09-24 0.01469061\n",
              "2019-09-25 0.02908458\n",
              "2019-09-26 0.01818822\n",
              "2019-09-27 0.01328798\n",
              "2019-09-30 0.04553034\n"
            ]
          },
          "metadata": {
            "tags": []
          }
        }
      ]
    },
    {
      "cell_type": "markdown",
      "metadata": {
        "id": "MgzaEDxyT0iI",
        "colab_type": "text"
      },
      "source": [
        "We now Create a fresh dataframe using cbind function for all the indicators and the 25 day lag returns."
      ]
    },
    {
      "cell_type": "code",
      "metadata": {
        "id": "BbKCqCvFUBJX",
        "colab_type": "code",
        "colab": {}
      },
      "source": [
        "%%R\n",
        "SnP500 <- cbind(snp_close,average10,average25,std10,\n",
        "                   std20,rsi5,rsi14,macd12269,macd7205,\n",
        "                   bollinger_bands, lagreturn)\n",
        "\n",
        "df = as.data.frame(SnP500)"
      ],
      "execution_count": 0,
      "outputs": []
    },
    {
      "cell_type": "markdown",
      "metadata": {
        "id": "qF0LZ2_ckErw",
        "colab_type": "text"
      },
      "source": [
        "We will now store what we have created into a csv file for use in the next section."
      ]
    },
    {
      "cell_type": "code",
      "metadata": {
        "id": "akIkBko6EK9L",
        "colab_type": "code",
        "colab": {}
      },
      "source": [
        "%%R\n",
        "if (!require(\"tibble\")) {\n",
        "      install.packages(\"tibble\")\n",
        "      library(tibble)\n",
        "  }"
      ],
      "execution_count": 0,
      "outputs": []
    },
    {
      "cell_type": "code",
      "metadata": {
        "id": "gcHSLsZSEbEH",
        "colab_type": "code",
        "colab": {}
      },
      "source": [
        "%%R\n",
        "if (!require(\"dplyr\")) {\n",
        "      install.packages(\"dplyr\")\n",
        "      library(dplyr)\n",
        "  }"
      ],
      "execution_count": 0,
      "outputs": []
    },
    {
      "cell_type": "code",
      "metadata": {
        "id": "DKjHQ2xWGzxZ",
        "colab_type": "code",
        "outputId": "556a6414-ec2f-42e5-e6a8-4776ba4482c0",
        "colab": {
          "base_uri": "https://localhost:8080/",
          "height": 265
        }
      },
      "source": [
        "%%R\n",
        "snp500 <- rownames_to_column(df, var=\"date\")\n",
        "head(snp500)"
      ],
      "execution_count": 0,
      "outputs": [
        {
          "output_type": "display_data",
          "data": {
            "text/plain": [
              "        date GSPC.Close GSPC.Close.1 GSPC.Close.2 GSPC.Close.3 GSPC.Close.4\n",
              "1 1950-01-03      16.66           NA           NA           NA           NA\n",
              "2 1950-01-04      16.85           NA           NA           NA           NA\n",
              "3 1950-01-05      16.93           NA           NA           NA           NA\n",
              "4 1950-01-06      16.98           NA           NA           NA           NA\n",
              "5 1950-01-09      17.08           NA           NA           NA           NA\n",
              "6 1950-01-10      17.03           NA           NA           NA           NA\n",
              "       rsi rsi.1 macd signal macd.1 signal.1 dn mavg up pctB GSPC.Close.5\n",
              "1       NA    NA   NA     NA     NA       NA NA   NA NA   NA           NA\n",
              "2       NA    NA   NA     NA     NA       NA NA   NA NA   NA           NA\n",
              "3       NA    NA   NA     NA     NA       NA NA   NA NA   NA           NA\n",
              "4       NA    NA   NA     NA     NA       NA NA   NA NA   NA           NA\n",
              "5       NA    NA   NA     NA     NA       NA NA   NA NA   NA           NA\n",
              "6 89.36189    NA   NA     NA     NA       NA NA   NA NA   NA           NA\n"
            ]
          },
          "metadata": {
            "tags": []
          }
        }
      ]
    },
    {
      "cell_type": "code",
      "metadata": {
        "id": "9bHXOzApkDmc",
        "colab_type": "code",
        "colab": {}
      },
      "source": [
        "%%R\n",
        "write.csv(snp500, file='SnP500.csv', row.names=FALSE)"
      ],
      "execution_count": 0,
      "outputs": []
    },
    {
      "cell_type": "markdown",
      "metadata": {
        "id": "GHTdbRLnjrhi",
        "colab_type": "text"
      },
      "source": [
        "# Part 2: Python \n",
        "This next part will be executed in Python including the Machine Learning and / or Neural Network section.\n",
        "\n",
        "We are going to use the `fast.ai` modules."
      ]
    },
    {
      "cell_type": "code",
      "metadata": {
        "id": "Mr66_QAP7YPW",
        "colab_type": "code",
        "colab": {}
      },
      "source": [
        "from fastai import *\n",
        "from fastai.tabular import *"
      ],
      "execution_count": 0,
      "outputs": []
    },
    {
      "cell_type": "markdown",
      "metadata": {
        "id": "FPSDgcYW-Ruq",
        "colab_type": "text"
      },
      "source": [
        "We load the csv file and view it and make sure that the date column is in a datetime format, then we view what we have imported."
      ]
    },
    {
      "cell_type": "code",
      "metadata": {
        "id": "qDdCwTVw-dNE",
        "colab_type": "code",
        "outputId": "31f9de3a-ae01-4edb-ed0b-4717592c91e2",
        "colab": {
          "base_uri": "https://localhost:8080/",
          "height": 301
        }
      },
      "source": [
        "df = pd.read_csv('SnP500.csv')\n",
        "df = df.dropna()\n",
        "df['date'] = df['date'].astype('datetime64[D]')\n",
        "df.tail()"
      ],
      "execution_count": 0,
      "outputs": [
        {
          "output_type": "execute_result",
          "data": {
            "text/html": [
              "<div>\n",
              "<style scoped>\n",
              "    .dataframe tbody tr th:only-of-type {\n",
              "        vertical-align: middle;\n",
              "    }\n",
              "\n",
              "    .dataframe tbody tr th {\n",
              "        vertical-align: top;\n",
              "    }\n",
              "\n",
              "    .dataframe thead th {\n",
              "        text-align: right;\n",
              "    }\n",
              "</style>\n",
              "<table border=\"1\" class=\"dataframe\">\n",
              "  <thead>\n",
              "    <tr style=\"text-align: right;\">\n",
              "      <th></th>\n",
              "      <th>date</th>\n",
              "      <th>GSPC.Close</th>\n",
              "      <th>GSPC.Close.1</th>\n",
              "      <th>GSPC.Close.2</th>\n",
              "      <th>GSPC.Close.3</th>\n",
              "      <th>GSPC.Close.4</th>\n",
              "      <th>rsi</th>\n",
              "      <th>rsi.1</th>\n",
              "      <th>macd</th>\n",
              "      <th>signal</th>\n",
              "      <th>macd.1</th>\n",
              "      <th>signal.1</th>\n",
              "      <th>dn</th>\n",
              "      <th>mavg</th>\n",
              "      <th>up</th>\n",
              "      <th>pctB</th>\n",
              "      <th>GSPC.Close.5</th>\n",
              "    </tr>\n",
              "  </thead>\n",
              "  <tbody>\n",
              "    <tr>\n",
              "      <th>17544</th>\n",
              "      <td>2019-09-24</td>\n",
              "      <td>2966.600098</td>\n",
              "      <td>2998.552002</td>\n",
              "      <td>2952.944785</td>\n",
              "      <td>12.910582</td>\n",
              "      <td>43.383557</td>\n",
              "      <td>2.640715</td>\n",
              "      <td>60.836224</td>\n",
              "      <td>1.472322</td>\n",
              "      <td>1.497796</td>\n",
              "      <td>0.938960</td>\n",
              "      <td>1.483409</td>\n",
              "      <td>2882.941866</td>\n",
              "      <td>2967.511987</td>\n",
              "      <td>3052.082109</td>\n",
              "      <td>0.494609</td>\n",
              "      <td>0.014691</td>\n",
              "    </tr>\n",
              "    <tr>\n",
              "      <th>17545</th>\n",
              "      <td>2019-09-25</td>\n",
              "      <td>2984.870117</td>\n",
              "      <td>2996.946020</td>\n",
              "      <td>2956.319189</td>\n",
              "      <td>13.564233</td>\n",
              "      <td>36.791917</td>\n",
              "      <td>31.322748</td>\n",
              "      <td>53.923779</td>\n",
              "      <td>1.409610</td>\n",
              "      <td>1.544999</td>\n",
              "      <td>0.679658</td>\n",
              "      <td>1.261152</td>\n",
              "      <td>2901.576847</td>\n",
              "      <td>2973.297498</td>\n",
              "      <td>3045.018148</td>\n",
              "      <td>0.580678</td>\n",
              "      <td>0.029085</td>\n",
              "    </tr>\n",
              "    <tr>\n",
              "      <th>17546</th>\n",
              "      <td>2019-09-26</td>\n",
              "      <td>2977.620117</td>\n",
              "      <td>2993.751025</td>\n",
              "      <td>2958.446797</td>\n",
              "      <td>14.015626</td>\n",
              "      <td>30.821988</td>\n",
              "      <td>27.804033</td>\n",
              "      <td>49.536514</td>\n",
              "      <td>1.302917</td>\n",
              "      <td>1.554788</td>\n",
              "      <td>0.393341</td>\n",
              "      <td>0.983512</td>\n",
              "      <td>2917.698390</td>\n",
              "      <td>2977.781506</td>\n",
              "      <td>3037.864623</td>\n",
              "      <td>0.498657</td>\n",
              "      <td>0.018188</td>\n",
              "    </tr>\n",
              "    <tr>\n",
              "      <th>17547</th>\n",
              "      <td>2019-09-27</td>\n",
              "      <td>2961.790039</td>\n",
              "      <td>2989.191040</td>\n",
              "      <td>2960.000400</td>\n",
              "      <td>16.314585</td>\n",
              "      <td>28.475299</td>\n",
              "      <td>27.342114</td>\n",
              "      <td>43.750057</td>\n",
              "      <td>1.143472</td>\n",
              "      <td>1.520898</td>\n",
              "      <td>0.115193</td>\n",
              "      <td>0.682606</td>\n",
              "      <td>2924.133428</td>\n",
              "      <td>2979.642004</td>\n",
              "      <td>3035.150581</td>\n",
              "      <td>0.339196</td>\n",
              "      <td>0.013288</td>\n",
              "    </tr>\n",
              "    <tr>\n",
              "      <th>17548</th>\n",
              "      <td>2019-09-30</td>\n",
              "      <td>2976.739990</td>\n",
              "      <td>2987.069043</td>\n",
              "      <td>2965.185596</td>\n",
              "      <td>16.426933</td>\n",
              "      <td>25.608077</td>\n",
              "      <td>40.770715</td>\n",
              "      <td>49.099349</td>\n",
              "      <td>0.980388</td>\n",
              "      <td>1.456131</td>\n",
              "      <td>-0.113157</td>\n",
              "      <td>0.402799</td>\n",
              "      <td>2932.236674</td>\n",
              "      <td>2982.156006</td>\n",
              "      <td>3032.075338</td>\n",
              "      <td>0.445752</td>\n",
              "      <td>0.045530</td>\n",
              "    </tr>\n",
              "  </tbody>\n",
              "</table>\n",
              "</div>"
            ],
            "text/plain": [
              "            date   GSPC.Close  ...      pctB  GSPC.Close.5\n",
              "17544 2019-09-24  2966.600098  ...  0.494609      0.014691\n",
              "17545 2019-09-25  2984.870117  ...  0.580678      0.029085\n",
              "17546 2019-09-26  2977.620117  ...  0.498657      0.018188\n",
              "17547 2019-09-27  2961.790039  ...  0.339196      0.013288\n",
              "17548 2019-09-30  2976.739990  ...  0.445752      0.045530\n",
              "\n",
              "[5 rows x 17 columns]"
            ]
          },
          "metadata": {
            "tags": []
          },
          "execution_count": 77
        }
      ]
    },
    {
      "cell_type": "markdown",
      "metadata": {
        "id": "esaLrzm0MK1O",
        "colab_type": "text"
      },
      "source": [
        "we use the `'info()'` function to verify that all columns contain `floats` and the date column contains ``datetime`` objects."
      ]
    },
    {
      "cell_type": "code",
      "metadata": {
        "id": "EQUVD_UGKyCB",
        "colab_type": "code",
        "outputId": "d9802b5a-e169-4e91-87f3-dbfab3e493bd",
        "colab": {
          "base_uri": "https://localhost:8080/",
          "height": 425
        }
      },
      "source": [
        "df.info()"
      ],
      "execution_count": 0,
      "outputs": [
        {
          "output_type": "stream",
          "text": [
            "<class 'pandas.core.frame.DataFrame'>\n",
            "Int64Index: 17516 entries, 33 to 17548\n",
            "Data columns (total 18 columns):\n",
            "date            17516 non-null datetime64[ns]\n",
            "GSPC.Close      17516 non-null float64\n",
            "GSPC.Close.1    17516 non-null float64\n",
            "GSPC.Close.2    17516 non-null float64\n",
            "GSPC.Close.3    17516 non-null float64\n",
            "GSPC.Close.4    17516 non-null float64\n",
            "rsi             17516 non-null float64\n",
            "rsi.1           17516 non-null float64\n",
            "macd            17516 non-null float64\n",
            "signal          17516 non-null float64\n",
            "macd.1          17516 non-null float64\n",
            "signal.1        17516 non-null float64\n",
            "dn              17516 non-null float64\n",
            "mavg            17516 non-null float64\n",
            "up              17516 non-null float64\n",
            "pctB            17516 non-null float64\n",
            "GSPC.Close.5    17516 non-null float64\n",
            "direction       17516 non-null object\n",
            "dtypes: datetime64[ns](1), float64(16), object(1)\n",
            "memory usage: 2.5+ MB\n"
          ],
          "name": "stdout"
        }
      ]
    },
    {
      "cell_type": "markdown",
      "metadata": {
        "id": "-daEAiGD4fDP",
        "colab_type": "text"
      },
      "source": [
        "### Indicate Up, Down and Nowhere directions\n",
        "\n",
        "We are now done with the indicators for now. We now turn our attention to generating Directions.\n",
        "\n",
        "1. Return over the last 20 days > 2 % -> Up direction\n",
        "\n",
        "2. Return over the last 20 days is between -2 % and 2 % -> Nowhere\n",
        "\n",
        "3. Return over the last 20 days < - 2 % -> Down direction\n",
        "\n",
        "We will now generate a data frame named direction which consists of NA (null values) and a number of rows the same as the number of rows in GSPC and one column"
      ]
    },
    {
      "cell_type": "code",
      "metadata": {
        "id": "KbOZWCm7PX4G",
        "colab_type": "code",
        "colab": {}
      },
      "source": [
        "def dir(lag):\n",
        "  if lag > 0.02: return 'up'\n",
        "  elif lag < -0.02: return 'down'\n",
        "  else: return 'nowhere'\n",
        "  \n",
        "  \n",
        "  \n",
        "df['direction'] = df.apply(lambda x: dir(x['GSPC.Close.5']), axis=1)"
      ],
      "execution_count": 0,
      "outputs": []
    },
    {
      "cell_type": "code",
      "metadata": {
        "id": "4WDZqXuTaRs-",
        "colab_type": "code",
        "outputId": "e8fe82d1-8b9f-48a4-bbf2-1cbd81a39c72",
        "colab": {
          "base_uri": "https://localhost:8080/",
          "height": 301
        }
      },
      "source": [
        "df.head()"
      ],
      "execution_count": 0,
      "outputs": [
        {
          "output_type": "execute_result",
          "data": {
            "text/html": [
              "<div>\n",
              "<style scoped>\n",
              "    .dataframe tbody tr th:only-of-type {\n",
              "        vertical-align: middle;\n",
              "    }\n",
              "\n",
              "    .dataframe tbody tr th {\n",
              "        vertical-align: top;\n",
              "    }\n",
              "\n",
              "    .dataframe thead th {\n",
              "        text-align: right;\n",
              "    }\n",
              "</style>\n",
              "<table border=\"1\" class=\"dataframe\">\n",
              "  <thead>\n",
              "    <tr style=\"text-align: right;\">\n",
              "      <th></th>\n",
              "      <th>date</th>\n",
              "      <th>GSPC.Close</th>\n",
              "      <th>GSPC.Close.1</th>\n",
              "      <th>GSPC.Close.2</th>\n",
              "      <th>GSPC.Close.3</th>\n",
              "      <th>GSPC.Close.4</th>\n",
              "      <th>rsi</th>\n",
              "      <th>rsi.1</th>\n",
              "      <th>macd</th>\n",
              "      <th>signal</th>\n",
              "      <th>macd.1</th>\n",
              "      <th>signal.1</th>\n",
              "      <th>dn</th>\n",
              "      <th>mavg</th>\n",
              "      <th>up</th>\n",
              "      <th>pctB</th>\n",
              "      <th>GSPC.Close.5</th>\n",
              "      <th>direction</th>\n",
              "    </tr>\n",
              "  </thead>\n",
              "  <tbody>\n",
              "    <tr>\n",
              "      <th>33</th>\n",
              "      <td>1950-02-20</td>\n",
              "      <td>17.200001</td>\n",
              "      <td>17.174</td>\n",
              "      <td>17.0260</td>\n",
              "      <td>0.106688</td>\n",
              "      <td>0.183730</td>\n",
              "      <td>45.652292</td>\n",
              "      <td>59.183678</td>\n",
              "      <td>1.034696</td>\n",
              "      <td>0.819089</td>\n",
              "      <td>0.395373</td>\n",
              "      <td>0.740144</td>\n",
              "      <td>16.714345</td>\n",
              "      <td>17.0725</td>\n",
              "      <td>17.430655</td>\n",
              "      <td>0.677997</td>\n",
              "      <td>0.031794</td>\n",
              "      <td>up</td>\n",
              "    </tr>\n",
              "    <tr>\n",
              "      <th>34</th>\n",
              "      <td>1950-02-21</td>\n",
              "      <td>17.170000</td>\n",
              "      <td>17.159</td>\n",
              "      <td>17.0440</td>\n",
              "      <td>0.093625</td>\n",
              "      <td>0.181297</td>\n",
              "      <td>67.742040</td>\n",
              "      <td>56.122456</td>\n",
              "      <td>0.891258</td>\n",
              "      <td>0.866326</td>\n",
              "      <td>0.229942</td>\n",
              "      <td>0.543737</td>\n",
              "      <td>16.731588</td>\n",
              "      <td>17.0850</td>\n",
              "      <td>17.438412</td>\n",
              "      <td>0.620256</td>\n",
              "      <td>0.026914</td>\n",
              "      <td>up</td>\n",
              "    </tr>\n",
              "    <tr>\n",
              "      <th>35</th>\n",
              "      <td>1950-02-23</td>\n",
              "      <td>17.209999</td>\n",
              "      <td>17.157</td>\n",
              "      <td>17.0580</td>\n",
              "      <td>0.092142</td>\n",
              "      <td>0.175226</td>\n",
              "      <td>71.428571</td>\n",
              "      <td>57.843091</td>\n",
              "      <td>0.740640</td>\n",
              "      <td>0.894918</td>\n",
              "      <td>0.102323</td>\n",
              "      <td>0.372261</td>\n",
              "      <td>16.760922</td>\n",
              "      <td>17.1025</td>\n",
              "      <td>17.444077</td>\n",
              "      <td>0.657357</td>\n",
              "      <td>0.020759</td>\n",
              "      <td>up</td>\n",
              "    </tr>\n",
              "    <tr>\n",
              "      <th>36</th>\n",
              "      <td>1950-02-24</td>\n",
              "      <td>17.280001</td>\n",
              "      <td>17.164</td>\n",
              "      <td>17.0752</td>\n",
              "      <td>0.099018</td>\n",
              "      <td>0.157095</td>\n",
              "      <td>91.428359</td>\n",
              "      <td>52.747287</td>\n",
              "      <td>0.625755</td>\n",
              "      <td>0.898718</td>\n",
              "      <td>0.128017</td>\n",
              "      <td>0.269538</td>\n",
              "      <td>16.823266</td>\n",
              "      <td>17.1295</td>\n",
              "      <td>17.435734</td>\n",
              "      <td>0.745729</td>\n",
              "      <td>0.025519</td>\n",
              "      <td>up</td>\n",
              "    </tr>\n",
              "    <tr>\n",
              "      <th>37</th>\n",
              "      <td>1950-02-27</td>\n",
              "      <td>17.280001</td>\n",
              "      <td>17.164</td>\n",
              "      <td>17.0916</td>\n",
              "      <td>0.099018</td>\n",
              "      <td>0.129131</td>\n",
              "      <td>84.210249</td>\n",
              "      <td>49.411769</td>\n",
              "      <td>0.552729</td>\n",
              "      <td>0.875001</td>\n",
              "      <td>0.150711</td>\n",
              "      <td>0.201273</td>\n",
              "      <td>16.905277</td>\n",
              "      <td>17.1570</td>\n",
              "      <td>17.408723</td>\n",
              "      <td>0.744319</td>\n",
              "      <td>0.024303</td>\n",
              "      <td>up</td>\n",
              "    </tr>\n",
              "  </tbody>\n",
              "</table>\n",
              "</div>"
            ],
            "text/plain": [
              "         date  GSPC.Close  GSPC.Close.1  ...      pctB  GSPC.Close.5  direction\n",
              "33 1950-02-20   17.200001        17.174  ...  0.677997      0.031794         up\n",
              "34 1950-02-21   17.170000        17.159  ...  0.620256      0.026914         up\n",
              "35 1950-02-23   17.209999        17.157  ...  0.657357      0.020759         up\n",
              "36 1950-02-24   17.280001        17.164  ...  0.745729      0.025519         up\n",
              "37 1950-02-27   17.280001        17.164  ...  0.744319      0.024303         up\n",
              "\n",
              "[5 rows x 18 columns]"
            ]
          },
          "metadata": {
            "tags": []
          },
          "execution_count": 99
        }
      ]
    },
    {
      "cell_type": "markdown",
      "metadata": {
        "id": "6QLlvnN4kT75",
        "colab_type": "text"
      },
      "source": [
        "We are going to set the date ad the index and delete two columns that are not needed, `'GSPC.Close'` and `'GSPC.Close.5'`."
      ]
    },
    {
      "cell_type": "code",
      "metadata": {
        "id": "sOSIOfDOmlYp",
        "colab_type": "code",
        "outputId": "d34b4d00-e6f6-4988-b6b9-2eccd33a3b21",
        "colab": {
          "base_uri": "https://localhost:8080/",
          "height": 331
        }
      },
      "source": [
        "df = df.set_index('date', inplace=False)\n",
        "\n",
        "df.head()"
      ],
      "execution_count": 0,
      "outputs": [
        {
          "output_type": "execute_result",
          "data": {
            "text/html": [
              "<div>\n",
              "<style scoped>\n",
              "    .dataframe tbody tr th:only-of-type {\n",
              "        vertical-align: middle;\n",
              "    }\n",
              "\n",
              "    .dataframe tbody tr th {\n",
              "        vertical-align: top;\n",
              "    }\n",
              "\n",
              "    .dataframe thead th {\n",
              "        text-align: right;\n",
              "    }\n",
              "</style>\n",
              "<table border=\"1\" class=\"dataframe\">\n",
              "  <thead>\n",
              "    <tr style=\"text-align: right;\">\n",
              "      <th></th>\n",
              "      <th>GSPC.Close</th>\n",
              "      <th>GSPC.Close.1</th>\n",
              "      <th>GSPC.Close.2</th>\n",
              "      <th>GSPC.Close.3</th>\n",
              "      <th>GSPC.Close.4</th>\n",
              "      <th>rsi</th>\n",
              "      <th>rsi.1</th>\n",
              "      <th>macd</th>\n",
              "      <th>signal</th>\n",
              "      <th>macd.1</th>\n",
              "      <th>signal.1</th>\n",
              "      <th>dn</th>\n",
              "      <th>mavg</th>\n",
              "      <th>up</th>\n",
              "      <th>pctB</th>\n",
              "      <th>GSPC.Close.5</th>\n",
              "      <th>direction</th>\n",
              "    </tr>\n",
              "    <tr>\n",
              "      <th>date</th>\n",
              "      <th></th>\n",
              "      <th></th>\n",
              "      <th></th>\n",
              "      <th></th>\n",
              "      <th></th>\n",
              "      <th></th>\n",
              "      <th></th>\n",
              "      <th></th>\n",
              "      <th></th>\n",
              "      <th></th>\n",
              "      <th></th>\n",
              "      <th></th>\n",
              "      <th></th>\n",
              "      <th></th>\n",
              "      <th></th>\n",
              "      <th></th>\n",
              "      <th></th>\n",
              "    </tr>\n",
              "  </thead>\n",
              "  <tbody>\n",
              "    <tr>\n",
              "      <th>1950-02-20</th>\n",
              "      <td>17.200001</td>\n",
              "      <td>17.174</td>\n",
              "      <td>17.0260</td>\n",
              "      <td>0.106688</td>\n",
              "      <td>0.183730</td>\n",
              "      <td>45.652292</td>\n",
              "      <td>59.183678</td>\n",
              "      <td>1.034696</td>\n",
              "      <td>0.819089</td>\n",
              "      <td>0.395373</td>\n",
              "      <td>0.740144</td>\n",
              "      <td>16.714345</td>\n",
              "      <td>17.0725</td>\n",
              "      <td>17.430655</td>\n",
              "      <td>0.677997</td>\n",
              "      <td>0.031794</td>\n",
              "      <td>up</td>\n",
              "    </tr>\n",
              "    <tr>\n",
              "      <th>1950-02-21</th>\n",
              "      <td>17.170000</td>\n",
              "      <td>17.159</td>\n",
              "      <td>17.0440</td>\n",
              "      <td>0.093625</td>\n",
              "      <td>0.181297</td>\n",
              "      <td>67.742040</td>\n",
              "      <td>56.122456</td>\n",
              "      <td>0.891258</td>\n",
              "      <td>0.866326</td>\n",
              "      <td>0.229942</td>\n",
              "      <td>0.543737</td>\n",
              "      <td>16.731588</td>\n",
              "      <td>17.0850</td>\n",
              "      <td>17.438412</td>\n",
              "      <td>0.620256</td>\n",
              "      <td>0.026914</td>\n",
              "      <td>up</td>\n",
              "    </tr>\n",
              "    <tr>\n",
              "      <th>1950-02-23</th>\n",
              "      <td>17.209999</td>\n",
              "      <td>17.157</td>\n",
              "      <td>17.0580</td>\n",
              "      <td>0.092142</td>\n",
              "      <td>0.175226</td>\n",
              "      <td>71.428571</td>\n",
              "      <td>57.843091</td>\n",
              "      <td>0.740640</td>\n",
              "      <td>0.894918</td>\n",
              "      <td>0.102323</td>\n",
              "      <td>0.372261</td>\n",
              "      <td>16.760922</td>\n",
              "      <td>17.1025</td>\n",
              "      <td>17.444077</td>\n",
              "      <td>0.657357</td>\n",
              "      <td>0.020759</td>\n",
              "      <td>up</td>\n",
              "    </tr>\n",
              "    <tr>\n",
              "      <th>1950-02-24</th>\n",
              "      <td>17.280001</td>\n",
              "      <td>17.164</td>\n",
              "      <td>17.0752</td>\n",
              "      <td>0.099018</td>\n",
              "      <td>0.157095</td>\n",
              "      <td>91.428359</td>\n",
              "      <td>52.747287</td>\n",
              "      <td>0.625755</td>\n",
              "      <td>0.898718</td>\n",
              "      <td>0.128017</td>\n",
              "      <td>0.269538</td>\n",
              "      <td>16.823266</td>\n",
              "      <td>17.1295</td>\n",
              "      <td>17.435734</td>\n",
              "      <td>0.745729</td>\n",
              "      <td>0.025519</td>\n",
              "      <td>up</td>\n",
              "    </tr>\n",
              "    <tr>\n",
              "      <th>1950-02-27</th>\n",
              "      <td>17.280001</td>\n",
              "      <td>17.164</td>\n",
              "      <td>17.0916</td>\n",
              "      <td>0.099018</td>\n",
              "      <td>0.129131</td>\n",
              "      <td>84.210249</td>\n",
              "      <td>49.411769</td>\n",
              "      <td>0.552729</td>\n",
              "      <td>0.875001</td>\n",
              "      <td>0.150711</td>\n",
              "      <td>0.201273</td>\n",
              "      <td>16.905277</td>\n",
              "      <td>17.1570</td>\n",
              "      <td>17.408723</td>\n",
              "      <td>0.744319</td>\n",
              "      <td>0.024303</td>\n",
              "      <td>up</td>\n",
              "    </tr>\n",
              "  </tbody>\n",
              "</table>\n",
              "</div>"
            ],
            "text/plain": [
              "            GSPC.Close  GSPC.Close.1  ...  GSPC.Close.5  direction\n",
              "date                                  ...                         \n",
              "1950-02-20   17.200001        17.174  ...      0.031794         up\n",
              "1950-02-21   17.170000        17.159  ...      0.026914         up\n",
              "1950-02-23   17.209999        17.157  ...      0.020759         up\n",
              "1950-02-24   17.280001        17.164  ...      0.025519         up\n",
              "1950-02-27   17.280001        17.164  ...      0.024303         up\n",
              "\n",
              "[5 rows x 17 columns]"
            ]
          },
          "metadata": {
            "tags": []
          },
          "execution_count": 100
        }
      ]
    },
    {
      "cell_type": "code",
      "metadata": {
        "id": "YrLcex-cg-zT",
        "colab_type": "code",
        "outputId": "4647d984-ac8f-49db-d283-bd9a48cdf89e",
        "colab": {
          "base_uri": "https://localhost:8080/",
          "height": 54
        }
      },
      "source": [
        "print(list(df.columns))"
      ],
      "execution_count": 0,
      "outputs": [
        {
          "output_type": "stream",
          "text": [
            "['date', 'GSPC.Close', 'GSPC.Close.1', 'GSPC.Close.2', 'GSPC.Close.3', 'GSPC.Close.4', 'rsi', 'rsi.1', 'macd', 'signal', 'macd.1', 'signal.1', 'dn', 'mavg', 'up', 'pctB', 'GSPC.Close.5', 'direction']\n"
          ],
          "name": "stdout"
        }
      ]
    },
    {
      "cell_type": "code",
      "metadata": {
        "id": "XOYlFjD0lmlt",
        "colab_type": "code",
        "colab": {}
      },
      "source": [
        "dep_var = 'direction'\n",
        "cat_names = []\n",
        "cont_names = ['GSPC.Close.1', 'GSPC.Close.2', 'GSPC.Close.3', 'GSPC.Close.4', 'rsi', 'rsi.1', 'macd', 'signal', 'macd.1', 'signal.1', 'dn', 'mavg', 'up', 'pctB']\n",
        "procs = [FillMissing, Categorify, Normalize]"
      ],
      "execution_count": 0,
      "outputs": []
    },
    {
      "cell_type": "code",
      "metadata": {
        "id": "kMwsMthd5Bds",
        "colab_type": "code",
        "colab": {}
      },
      "source": [
        "test = TabularList.from_df(df.iloc[10000:17516].copy(), path=path, cat_names=cat_names, cont_names=cont_names)"
      ],
      "execution_count": 0,
      "outputs": []
    },
    {
      "cell_type": "code",
      "metadata": {
        "id": "fxNwF3F1zLkI",
        "colab_type": "code",
        "colab": {}
      },
      "source": [
        "data = (TabularList.from_df(df, path=path, cat_names=cat_names, cont_names=cont_names, procs=procs)\n",
        "                           .split_by_idx(list(range(10000,17516)))\n",
        "                           .label_from_df(cols=dep_var)\n",
        "                           .add_test(test)\n",
        "                           .databunch())"
      ],
      "execution_count": 0,
      "outputs": []
    },
    {
      "cell_type": "code",
      "metadata": {
        "id": "VJc1KPQDbipk",
        "colab_type": "code",
        "outputId": "4d8f207f-ffad-4742-b4aa-531d6267d7bd",
        "colab": {
          "base_uri": "https://localhost:8080/",
          "height": 367
        }
      },
      "source": [
        "data.show_batch(rows=10)"
      ],
      "execution_count": 0,
      "outputs": [
        {
          "output_type": "display_data",
          "data": {
            "text/html": [
              "<table border=\"1\" class=\"dataframe\">\n",
              "  <thead>\n",
              "    <tr style=\"text-align: right;\">\n",
              "      <th>GSPC.Close.1</th>\n",
              "      <th>GSPC.Close.2</th>\n",
              "      <th>GSPC.Close.3</th>\n",
              "      <th>GSPC.Close.4</th>\n",
              "      <th>rsi</th>\n",
              "      <th>rsi.1</th>\n",
              "      <th>macd</th>\n",
              "      <th>signal</th>\n",
              "      <th>macd.1</th>\n",
              "      <th>signal.1</th>\n",
              "      <th>dn</th>\n",
              "      <th>mavg</th>\n",
              "      <th>up</th>\n",
              "      <th>pctB</th>\n",
              "      <th>target</th>\n",
              "    </tr>\n",
              "  </thead>\n",
              "  <tbody>\n",
              "    <tr>\n",
              "      <td>2.2638</td>\n",
              "      <td>2.3481</td>\n",
              "      <td>0.6642</td>\n",
              "      <td>2.0983</td>\n",
              "      <td>-1.3975</td>\n",
              "      <td>-2.0533</td>\n",
              "      <td>-1.1121</td>\n",
              "      <td>-0.5208</td>\n",
              "      <td>-1.5144</td>\n",
              "      <td>-1.3806</td>\n",
              "      <td>2.3071</td>\n",
              "      <td>2.3407</td>\n",
              "      <td>2.3684</td>\n",
              "      <td>-1.2632</td>\n",
              "      <td>down</td>\n",
              "    </tr>\n",
              "    <tr>\n",
              "      <td>-1.0847</td>\n",
              "      <td>-1.0877</td>\n",
              "      <td>-0.5992</td>\n",
              "      <td>-0.7152</td>\n",
              "      <td>1.5234</td>\n",
              "      <td>0.9200</td>\n",
              "      <td>0.2458</td>\n",
              "      <td>0.4198</td>\n",
              "      <td>0.1681</td>\n",
              "      <td>-0.0073</td>\n",
              "      <td>-1.0852</td>\n",
              "      <td>-1.0864</td>\n",
              "      <td>-1.0858</td>\n",
              "      <td>1.6793</td>\n",
              "      <td>up</td>\n",
              "    </tr>\n",
              "    <tr>\n",
              "      <td>0.7964</td>\n",
              "      <td>0.7967</td>\n",
              "      <td>0.0481</td>\n",
              "      <td>-0.0835</td>\n",
              "      <td>-1.8158</td>\n",
              "      <td>-0.2013</td>\n",
              "      <td>0.1215</td>\n",
              "      <td>0.1162</td>\n",
              "      <td>0.2441</td>\n",
              "      <td>0.2116</td>\n",
              "      <td>0.8282</td>\n",
              "      <td>0.7953</td>\n",
              "      <td>0.7634</td>\n",
              "      <td>-0.1838</td>\n",
              "      <td>nowhere</td>\n",
              "    </tr>\n",
              "    <tr>\n",
              "      <td>0.9020</td>\n",
              "      <td>0.8200</td>\n",
              "      <td>0.3519</td>\n",
              "      <td>2.1176</td>\n",
              "      <td>0.9976</td>\n",
              "      <td>0.6680</td>\n",
              "      <td>2.5667</td>\n",
              "      <td>2.6894</td>\n",
              "      <td>1.3910</td>\n",
              "      <td>1.9622</td>\n",
              "      <td>0.7662</td>\n",
              "      <td>0.8538</td>\n",
              "      <td>0.9341</td>\n",
              "      <td>0.5601</td>\n",
              "      <td>up</td>\n",
              "    </tr>\n",
              "    <tr>\n",
              "      <td>-0.6400</td>\n",
              "      <td>-0.6458</td>\n",
              "      <td>-0.5959</td>\n",
              "      <td>-0.4943</td>\n",
              "      <td>-1.1075</td>\n",
              "      <td>0.2387</td>\n",
              "      <td>0.3042</td>\n",
              "      <td>0.3313</td>\n",
              "      <td>0.3568</td>\n",
              "      <td>0.4431</td>\n",
              "      <td>-0.6421</td>\n",
              "      <td>-0.6467</td>\n",
              "      <td>-0.6499</td>\n",
              "      <td>0.1555</td>\n",
              "      <td>up</td>\n",
              "    </tr>\n",
              "    <tr>\n",
              "      <td>3.1206</td>\n",
              "      <td>3.1416</td>\n",
              "      <td>2.4330</td>\n",
              "      <td>1.3210</td>\n",
              "      <td>1.0490</td>\n",
              "      <td>0.1502</td>\n",
              "      <td>-0.5074</td>\n",
              "      <td>-1.2259</td>\n",
              "      <td>0.5757</td>\n",
              "      <td>0.0662</td>\n",
              "      <td>3.1503</td>\n",
              "      <td>3.1132</td>\n",
              "      <td>3.0736</td>\n",
              "      <td>1.4125</td>\n",
              "      <td>down</td>\n",
              "    </tr>\n",
              "    <tr>\n",
              "      <td>0.4332</td>\n",
              "      <td>0.4334</td>\n",
              "      <td>-0.1579</td>\n",
              "      <td>-0.3115</td>\n",
              "      <td>0.2298</td>\n",
              "      <td>-0.2634</td>\n",
              "      <td>-0.0944</td>\n",
              "      <td>0.0167</td>\n",
              "      <td>0.1530</td>\n",
              "      <td>0.0263</td>\n",
              "      <td>0.4662</td>\n",
              "      <td>0.4335</td>\n",
              "      <td>0.4022</td>\n",
              "      <td>0.5460</td>\n",
              "      <td>nowhere</td>\n",
              "    </tr>\n",
              "    <tr>\n",
              "      <td>-0.8809</td>\n",
              "      <td>-0.8747</td>\n",
              "      <td>-0.6326</td>\n",
              "      <td>-0.5458</td>\n",
              "      <td>-0.5980</td>\n",
              "      <td>-1.3488</td>\n",
              "      <td>-0.8521</td>\n",
              "      <td>-0.3447</td>\n",
              "      <td>-0.8439</td>\n",
              "      <td>-0.8581</td>\n",
              "      <td>-0.8762</td>\n",
              "      <td>-0.8755</td>\n",
              "      <td>-0.8734</td>\n",
              "      <td>-0.8017</td>\n",
              "      <td>nowhere</td>\n",
              "    </tr>\n",
              "    <tr>\n",
              "      <td>-1.2021</td>\n",
              "      <td>-1.2090</td>\n",
              "      <td>-0.6550</td>\n",
              "      <td>-0.6759</td>\n",
              "      <td>-0.6544</td>\n",
              "      <td>0.0135</td>\n",
              "      <td>1.2157</td>\n",
              "      <td>1.7528</td>\n",
              "      <td>0.8767</td>\n",
              "      <td>0.9578</td>\n",
              "      <td>-1.2109</td>\n",
              "      <td>-1.2057</td>\n",
              "      <td>-1.1989</td>\n",
              "      <td>0.1977</td>\n",
              "      <td>up</td>\n",
              "    </tr>\n",
              "    <tr>\n",
              "      <td>-0.8716</td>\n",
              "      <td>-0.8506</td>\n",
              "      <td>-0.3921</td>\n",
              "      <td>-0.1821</td>\n",
              "      <td>1.1548</td>\n",
              "      <td>-0.6738</td>\n",
              "      <td>-2.2636</td>\n",
              "      <td>-2.1466</td>\n",
              "      <td>-1.4454</td>\n",
              "      <td>-2.2895</td>\n",
              "      <td>-0.8787</td>\n",
              "      <td>-0.8583</td>\n",
              "      <td>-0.8380</td>\n",
              "      <td>-0.1605</td>\n",
              "      <td>down</td>\n",
              "    </tr>\n",
              "  </tbody>\n",
              "</table>"
            ],
            "text/plain": [
              "<IPython.core.display.HTML object>"
            ]
          },
          "metadata": {
            "tags": []
          }
        }
      ]
    },
    {
      "cell_type": "code",
      "metadata": {
        "id": "w5YNhLp_qE0k",
        "colab_type": "code",
        "colab": {}
      },
      "source": [
        "learn = tabular_learner(data, layers=[200,100], metrics=accuracy)"
      ],
      "execution_count": 0,
      "outputs": []
    },
    {
      "cell_type": "code",
      "metadata": {
        "id": "Qjd4kAr6ZWCH",
        "colab_type": "code",
        "outputId": "8f35b161-06ca-4fad-c485-897ee7754980",
        "colab": {
          "base_uri": "https://localhost:8080/",
          "height": 227
        }
      },
      "source": [
        "learn.fit(6, 1e-2)"
      ],
      "execution_count": 0,
      "outputs": [
        {
          "output_type": "display_data",
          "data": {
            "text/html": [
              "<table border=\"1\" class=\"dataframe\">\n",
              "  <thead>\n",
              "    <tr style=\"text-align: left;\">\n",
              "      <th>epoch</th>\n",
              "      <th>train_loss</th>\n",
              "      <th>valid_loss</th>\n",
              "      <th>accuracy</th>\n",
              "      <th>time</th>\n",
              "    </tr>\n",
              "  </thead>\n",
              "  <tbody>\n",
              "    <tr>\n",
              "      <td>0</td>\n",
              "      <td>0.366306</td>\n",
              "      <td>2.762891</td>\n",
              "      <td>0.595663</td>\n",
              "      <td>00:02</td>\n",
              "    </tr>\n",
              "    <tr>\n",
              "      <td>1</td>\n",
              "      <td>0.353619</td>\n",
              "      <td>1.704393</td>\n",
              "      <td>0.571847</td>\n",
              "      <td>00:02</td>\n",
              "    </tr>\n",
              "    <tr>\n",
              "      <td>2</td>\n",
              "      <td>0.337987</td>\n",
              "      <td>1.692001</td>\n",
              "      <td>0.650878</td>\n",
              "      <td>00:02</td>\n",
              "    </tr>\n",
              "    <tr>\n",
              "      <td>3</td>\n",
              "      <td>0.327105</td>\n",
              "      <td>1.310275</td>\n",
              "      <td>0.649947</td>\n",
              "      <td>00:02</td>\n",
              "    </tr>\n",
              "    <tr>\n",
              "      <td>4</td>\n",
              "      <td>0.336567</td>\n",
              "      <td>0.613350</td>\n",
              "      <td>0.731506</td>\n",
              "      <td>00:02</td>\n",
              "    </tr>\n",
              "    <tr>\n",
              "      <td>5</td>\n",
              "      <td>0.335145</td>\n",
              "      <td>0.775541</td>\n",
              "      <td>0.753592</td>\n",
              "      <td>00:02</td>\n",
              "    </tr>\n",
              "  </tbody>\n",
              "</table>"
            ],
            "text/plain": [
              "<IPython.core.display.HTML object>"
            ]
          },
          "metadata": {
            "tags": []
          }
        }
      ]
    },
    {
      "cell_type": "code",
      "metadata": {
        "id": "Z8FVNOTQ58AS",
        "colab_type": "code",
        "colab": {}
      },
      "source": [
        "row = df.iloc[0]"
      ],
      "execution_count": 0,
      "outputs": []
    },
    {
      "cell_type": "code",
      "metadata": {
        "id": "x9AmI_we6-d2",
        "colab_type": "code",
        "outputId": "0537792e-f857-4088-d468-a3fe03a6ce57",
        "colab": {
          "base_uri": "https://localhost:8080/",
          "height": 34
        }
      },
      "source": [
        "learn.predict(row)"
      ],
      "execution_count": 0,
      "outputs": [
        {
          "output_type": "execute_result",
          "data": {
            "text/plain": [
              "(Category up, tensor(2), tensor([0.0049, 0.3798, 0.6154]))"
            ]
          },
          "metadata": {
            "tags": []
          },
          "execution_count": 130
        }
      ]
    },
    {
      "cell_type": "markdown",
      "metadata": {
        "id": "90Aj5wxQyO_K",
        "colab_type": "text"
      },
      "source": [
        "Our accuracy looks good. We will save it for next time."
      ]
    },
    {
      "cell_type": "code",
      "metadata": {
        "id": "AjJOOscTyVeb",
        "colab_type": "code",
        "colab": {}
      },
      "source": [
        "learn.save('algo-1-tbl')"
      ],
      "execution_count": 0,
      "outputs": []
    }
  ]
}