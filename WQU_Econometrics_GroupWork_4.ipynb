{
  "nbformat": 4,
  "nbformat_minor": 0,
  "metadata": {
    "colab": {
      "name": " WQU_Econometrics_GroupWork_4.ipynb",
      "provenance": [],
      "collapsed_sections": [],
      "include_colab_link": true
    },
    "kernelspec": {
      "name": "python3",
      "display_name": "Python 3"
    }
  },
  "cells": [
    {
      "cell_type": "markdown",
      "metadata": {
        "id": "view-in-github",
        "colab_type": "text"
      },
      "source": [
        "<a href=\"https://colab.research.google.com/github/RickyMacharm/WorldQuant_Python/blob/master/WQU_Econometrics_GroupWork_4.ipynb\" target=\"_parent\"><img src=\"https://colab.research.google.com/assets/colab-badge.svg\" alt=\"Open In Colab\"/></a>"
      ]
    },
    {
      "cell_type": "markdown",
      "metadata": {
        "id": "ANNymlCj4cA2",
        "colab_type": "text"
      },
      "source": [
        "### Running R on Colab\n",
        "In order to run R successfully on colab, we need to execute the following code `%load_ext rpy2.ipython` in a cell first of all."
      ]
    },
    {
      "cell_type": "code",
      "metadata": {
        "id": "tAwIHuCBnLUs",
        "colab_type": "code",
        "outputId": "8304f93e-e648-4ee3-f1b7-5a02f2a8f222",
        "colab": {
          "base_uri": "https://localhost:8080/",
          "height": 52
        }
      },
      "source": [
        "%load_ext rpy2.ipython"
      ],
      "execution_count": 0,
      "outputs": [
        {
          "output_type": "stream",
          "text": [
            "The rpy2.ipython extension is already loaded. To reload it, use:\n",
            "  %reload_ext rpy2.ipython\n"
          ],
          "name": "stdout"
        }
      ]
    },
    {
      "cell_type": "markdown",
      "metadata": {
        "id": "Y83QMmdi5Kvk",
        "colab_type": "text"
      },
      "source": [
        "For every cell we next run, if the codes are R codes, we would need to remember to include `%%R` at the begining of the cell."
      ]
    },
    {
      "cell_type": "markdown",
      "metadata": {
        "id": "RvTITt8U-xeh",
        "colab_type": "text"
      },
      "source": [
        "To be able to access the Apple data, we need to use a library called `quantmod`. We check if it is installed, if not we installing it before bringing it out to use."
      ]
    },
    {
      "cell_type": "code",
      "metadata": {
        "id": "daI6AmK2z3YF",
        "colab_type": "code",
        "outputId": "8f54f4f2-f991-48c4-bd10-0770ba60a21f",
        "colab": {
          "base_uri": "https://localhost:8080/",
          "height": 1000
        }
      },
      "source": [
        "%%R\n",
        "if (!require(\"quantmod\")) {\n",
        "      install.packages(\"quantmod\")\n",
        "      library(quantmod)\n",
        "  }\n"
      ],
      "execution_count": 0,
      "outputs": [
        {
          "output_type": "stream",
          "text": [
            "/usr/local/lib/python3.6/dist-packages/rpy2/rinterface/__init__.py:146: RRuntimeWarning: Loading required package: quantmod\n",
            "\n",
            "  warnings.warn(x, RRuntimeWarning)\n",
            "/usr/local/lib/python3.6/dist-packages/rpy2/rinterface/__init__.py:146: RRuntimeWarning: Installing package into ‘/usr/local/lib/R/site-library’\n",
            "(as ‘lib’ is unspecified)\n",
            "\n",
            "  warnings.warn(x, RRuntimeWarning)\n",
            "/usr/local/lib/python3.6/dist-packages/rpy2/rinterface/__init__.py:146: RRuntimeWarning: also installing the dependencies ‘xts’, ‘zoo’, ‘TTR’\n",
            "\n",
            "\n",
            "  warnings.warn(x, RRuntimeWarning)\n",
            "/usr/local/lib/python3.6/dist-packages/rpy2/rinterface/__init__.py:146: RRuntimeWarning: trying URL 'https://cran.rstudio.com/src/contrib/xts_0.11-2.tar.gz'\n",
            "\n",
            "  warnings.warn(x, RRuntimeWarning)\n",
            "/usr/local/lib/python3.6/dist-packages/rpy2/rinterface/__init__.py:146: RRuntimeWarning: Content type 'application/x-gzip'\n",
            "  warnings.warn(x, RRuntimeWarning)\n",
            "/usr/local/lib/python3.6/dist-packages/rpy2/rinterface/__init__.py:146: RRuntimeWarning:  length 537024 bytes (524 KB)\n",
            "\n",
            "  warnings.warn(x, RRuntimeWarning)\n",
            "/usr/local/lib/python3.6/dist-packages/rpy2/rinterface/__init__.py:146: RRuntimeWarning: =\n",
            "  warnings.warn(x, RRuntimeWarning)\n",
            "/usr/local/lib/python3.6/dist-packages/rpy2/rinterface/__init__.py:146: RRuntimeWarning: \n",
            "\n",
            "  warnings.warn(x, RRuntimeWarning)\n",
            "/usr/local/lib/python3.6/dist-packages/rpy2/rinterface/__init__.py:146: RRuntimeWarning: downloaded 524 KB\n",
            "\n",
            "\n",
            "  warnings.warn(x, RRuntimeWarning)\n",
            "/usr/local/lib/python3.6/dist-packages/rpy2/rinterface/__init__.py:146: RRuntimeWarning: trying URL 'https://cran.rstudio.com/src/contrib/zoo_1.8-6.tar.gz'\n",
            "\n",
            "  warnings.warn(x, RRuntimeWarning)\n",
            "/usr/local/lib/python3.6/dist-packages/rpy2/rinterface/__init__.py:146: RRuntimeWarning:  length 853504 bytes (833 KB)\n",
            "\n",
            "  warnings.warn(x, RRuntimeWarning)\n",
            "/usr/local/lib/python3.6/dist-packages/rpy2/rinterface/__init__.py:146: RRuntimeWarning: downloaded 833 KB\n",
            "\n",
            "\n",
            "  warnings.warn(x, RRuntimeWarning)\n",
            "/usr/local/lib/python3.6/dist-packages/rpy2/rinterface/__init__.py:146: RRuntimeWarning: trying URL 'https://cran.rstudio.com/src/contrib/TTR_0.23-5.tar.gz'\n",
            "\n",
            "  warnings.warn(x, RRuntimeWarning)\n",
            "/usr/local/lib/python3.6/dist-packages/rpy2/rinterface/__init__.py:146: RRuntimeWarning:  length 309147 bytes (301 KB)\n",
            "\n",
            "  warnings.warn(x, RRuntimeWarning)\n",
            "/usr/local/lib/python3.6/dist-packages/rpy2/rinterface/__init__.py:146: RRuntimeWarning: downloaded 301 KB\n",
            "\n",
            "\n",
            "  warnings.warn(x, RRuntimeWarning)\n",
            "/usr/local/lib/python3.6/dist-packages/rpy2/rinterface/__init__.py:146: RRuntimeWarning: trying URL 'https://cran.rstudio.com/src/contrib/quantmod_0.4-15.tar.gz'\n",
            "\n",
            "  warnings.warn(x, RRuntimeWarning)\n",
            "/usr/local/lib/python3.6/dist-packages/rpy2/rinterface/__init__.py:146: RRuntimeWarning: \n",
            "  warnings.warn(x, RRuntimeWarning)\n",
            "/usr/local/lib/python3.6/dist-packages/rpy2/rinterface/__init__.py:146: RRuntimeWarning: The downloaded source packages are in\n",
            "\t‘/tmp/Rtmp0jQz3Z/downloaded_packages’\n",
            "  warnings.warn(x, RRuntimeWarning)\n",
            "/usr/local/lib/python3.6/dist-packages/rpy2/rinterface/__init__.py:146: RRuntimeWarning: Loading required package: xts\n",
            "\n",
            "  warnings.warn(x, RRuntimeWarning)\n",
            "/usr/local/lib/python3.6/dist-packages/rpy2/rinterface/__init__.py:146: RRuntimeWarning: Loading required package: zoo\n",
            "\n",
            "  warnings.warn(x, RRuntimeWarning)\n",
            "/usr/local/lib/python3.6/dist-packages/rpy2/rinterface/__init__.py:146: RRuntimeWarning: \n",
            "Attaching package: ‘zoo’\n",
            "\n",
            "\n",
            "  warnings.warn(x, RRuntimeWarning)\n",
            "/usr/local/lib/python3.6/dist-packages/rpy2/rinterface/__init__.py:146: RRuntimeWarning: The following objects are masked from ‘package:base’:\n",
            "\n",
            "    as.Date, as.Date.numeric\n",
            "\n",
            "\n",
            "  warnings.warn(x, RRuntimeWarning)\n",
            "/usr/local/lib/python3.6/dist-packages/rpy2/rinterface/__init__.py:146: RRuntimeWarning: Registered S3 method overwritten by 'xts':\n",
            "  method     from\n",
            "  as.zoo.xts zoo \n",
            "\n",
            "  warnings.warn(x, RRuntimeWarning)\n",
            "/usr/local/lib/python3.6/dist-packages/rpy2/rinterface/__init__.py:146: RRuntimeWarning: Loading required package: TTR\n",
            "\n",
            "  warnings.warn(x, RRuntimeWarning)\n",
            "/usr/local/lib/python3.6/dist-packages/rpy2/rinterface/__init__.py:146: RRuntimeWarning: Registered S3 method overwritten by 'quantmod':\n",
            "  method            from\n",
            "  as.zoo.data.frame zoo \n",
            "\n",
            "  warnings.warn(x, RRuntimeWarning)\n",
            "/usr/local/lib/python3.6/dist-packages/rpy2/rinterface/__init__.py:146: RRuntimeWarning: Version 0.4-0 included new data defaults. See ?getSymbols.\n",
            "\n",
            "  warnings.warn(x, RRuntimeWarning)\n"
          ],
          "name": "stderr"
        }
      ]
    },
    {
      "cell_type": "code",
      "metadata": {
        "id": "5I_q8i9O5RL6",
        "colab_type": "code",
        "colab": {}
      },
      "source": [
        "%%R\n",
        "start <- as.Date('2009-01-01');end <- as.Date('2019-10-01')\n"
      ],
      "execution_count": 0,
      "outputs": []
    },
    {
      "cell_type": "markdown",
      "metadata": {
        "id": "aVkBoZng_xuh",
        "colab_type": "text"
      },
      "source": [
        "Let's get Apple stock data; Apple's ticker symbol is AAPL. We use the quantmod function getSymbols, and pass a string as a first argument to\n",
        " identify the desired ticker symbol, pass 'yahoo' to src for `Yahoo! Finance`, and from and to specify date ranges.\n",
        " \n",
        "The default behavior for getSymbols is to load data directly into the global environment, with the object being named after the loaded ticker symbol. \n"
      ]
    },
    {
      "cell_type": "code",
      "metadata": {
        "id": "_FUbiLYL5qqT",
        "colab_type": "code",
        "outputId": "4817e0fb-5c3d-4efb-a4b9-60f62957a826",
        "colab": {
          "base_uri": "https://localhost:8080/",
          "height": 230
        }
      },
      "source": [
        "%%R\n",
        "getSymbols(\"AAPL\", src = \"yahoo\", from = start, to = end)\n"
      ],
      "execution_count": 0,
      "outputs": [
        {
          "output_type": "stream",
          "text": [
            "/usr/local/lib/python3.6/dist-packages/rpy2/rinterface/__init__.py:146: RRuntimeWarning: ‘getSymbols’ currently uses auto.assign=TRUE by default, but will\n",
            "use auto.assign=FALSE in 0.5-0. You will still be able to use\n",
            "‘loadSymbols’ to automatically load data. getOption(\"getSymbols.env\")\n",
            "and getOption(\"getSymbols.auto.assign\") will still be checked for\n",
            "alternate defaults.\n",
            "\n",
            "This message is shown once per session and may be disabled by setting \n",
            "options(\"getSymbols.warning4.0\"=FALSE). See ?getSymbols for details.\n",
            "\n",
            "\n",
            "  warnings.warn(x, RRuntimeWarning)\n"
          ],
          "name": "stderr"
        },
        {
          "output_type": "display_data",
          "data": {
            "text/plain": [
              "[1] \"AAPL\"\n"
            ]
          },
          "metadata": {
            "tags": []
          }
        }
      ]
    },
    {
      "cell_type": "markdown",
      "metadata": {
        "id": "SSMiAL-AAfux",
        "colab_type": "text"
      },
      "source": [
        "The output `\"AAPL\"`shows we have successfully loaded the stock. Let us now see the first few rows."
      ]
    },
    {
      "cell_type": "code",
      "metadata": {
        "id": "WPB71wIbAZPv",
        "colab_type": "code",
        "outputId": "72c17442-ad32-40be-d458-22836937d5c9",
        "colab": {
          "base_uri": "https://localhost:8080/",
          "height": 141
        }
      },
      "source": [
        "%%R\n",
        "head(AAPL)\n"
      ],
      "execution_count": 0,
      "outputs": [
        {
          "output_type": "display_data",
          "data": {
            "text/plain": [
              "           AAPL.Open AAPL.High AAPL.Low AAPL.Close AAPL.Volume AAPL.Adjusted\n",
              "2009-01-02  12.26857  13.00571 12.16571   12.96429   186503800      11.31410\n",
              "2009-01-05  13.31000  13.74000 13.24429   13.51143   295402100      11.79160\n",
              "2009-01-06  13.70714  13.88143 13.19857   13.28857   322327600      11.59711\n",
              "2009-01-07  13.11571  13.21429 12.89429   13.00143   188262200      11.34652\n",
              "2009-01-08  12.91857  13.30714 12.86286   13.24286   168375200      11.55722\n",
              "2009-01-09  13.31571  13.34000 12.87714   12.94000   136711400      11.29291\n"
            ]
          },
          "metadata": {
            "tags": []
          }
        }
      ]
    },
    {
      "cell_type": "markdown",
      "metadata": {
        "id": "zIWv3JiBaS7C",
        "colab_type": "text"
      },
      "source": [
        "## Testing for ARCH Effects"
      ]
    },
    {
      "cell_type": "markdown",
      "metadata": {
        "id": "dUmfUllXa07I",
        "colab_type": "text"
      },
      "source": [
        "We now calculate the returns for the purpose of testing for ARCH Effects"
      ]
    },
    {
      "cell_type": "code",
      "metadata": {
        "id": "NBnM0gZHaZyj",
        "colab_type": "code",
        "colab": {}
      },
      "source": [
        "%%R\n",
        "Returns <- dailyReturn(Cl(AAPL), type='log')"
      ],
      "execution_count": 0,
      "outputs": []
    },
    {
      "cell_type": "markdown",
      "metadata": {
        "id": "B4dmSV12BI5y",
        "colab_type": "text"
      },
      "source": [
        "let's plot"
      ]
    },
    {
      "cell_type": "code",
      "metadata": {
        "id": "eaArsRfdbEWF",
        "colab_type": "code",
        "outputId": "4fe171a9-be31-4bfd-dd1f-f004400df383",
        "colab": {
          "base_uri": "https://localhost:8080/",
          "height": 496
        }
      },
      "source": [
        "%%R\n",
        "plot(Returns, main = \"Monthly returns of APPLE, Inc.\",\n",
        "     xlab = \"Date\", ylab = \"Return in percent\")"
      ],
      "execution_count": 0,
      "outputs": [
        {
          "output_type": "display_data",
          "data": {
            "image/png": "[encoded data removed]"
          },
          "metadata": {
            "tags": []
          }
        }
      ]
    },
    {
      "cell_type": "markdown",
      "metadata": {
        "id": "cyfl_ojwbrtw",
        "colab_type": "text"
      },
      "source": [
        "We will use the Lyung-Box test to verify our suspicions."
      ]
    },
    {
      "cell_type": "code",
      "metadata": {
        "id": "YLm9HfUebzmj",
        "colab_type": "code",
        "outputId": "7157d2a7-c4b9-4413-c65d-ccdc04702593",
        "colab": {
          "base_uri": "https://localhost:8080/",
          "height": 123
        }
      },
      "source": [
        "%%R\n",
        "Box.test(coredata(Returns^2), type = \"Ljung-Box\", lag = 12)"
      ],
      "execution_count": 0,
      "outputs": [
        {
          "output_type": "display_data",
          "data": {
            "text/plain": [
              "\n",
              "\tBox-Ljung test\n",
              "\n",
              "data:  coredata(Returns^2)\n",
              "X-squared = 113.39, df = 12, p-value < 2.2e-16\n",
              "\n"
            ]
          },
          "metadata": {
            "tags": []
          }
        }
      ]
    },
    {
      "cell_type": "markdown",
      "metadata": {
        "id": "Pn3kEpWlcAik",
        "colab_type": "text"
      },
      "source": [
        "We can reject the null hypothesis of no autocorrelations in the squared returns at the\n",
        "1% significance level.\n",
        "\n",
        "The test confirms that ARCH effects exist in the monthly Apple returns; hence,\n",
        "an ARCH or GARCH model should be employed in modeling the return time series.\n",
        "\n",
        "We will Now use the `rugarch` library for that."
      ]
    },
    {
      "cell_type": "code",
      "metadata": {
        "id": "bZZ_1uHGc_Qq",
        "colab_type": "code",
        "outputId": "6dac1a05-11cd-4dea-994f-96dc9dfe9893",
        "colab": {
          "base_uri": "https://localhost:8080/",
          "height": 1000
        }
      },
      "source": [
        "%%R\n",
        "if (!require('rugarch')) {\n",
        "      install.packages(\"rugarch\")\n",
        "      library('rugarch')\n",
        "  }"
      ],
      "execution_count": 0,
      "outputs": [
        {
          "output_type": "stream",
          "text": [
            "/usr/local/lib/python3.6/dist-packages/rpy2/rinterface/__init__.py:146: RRuntimeWarning: Loading required package: rugarch\n",
            "\n",
            "  warnings.warn(x, RRuntimeWarning)\n",
            "/usr/local/lib/python3.6/dist-packages/rpy2/rinterface/__init__.py:146: RRuntimeWarning: Installing package into ‘/usr/local/lib/R/site-library’\n",
            "(as ‘lib’ is unspecified)\n",
            "\n",
            "  warnings.warn(x, RRuntimeWarning)\n",
            "/usr/local/lib/python3.6/dist-packages/rpy2/rinterface/__init__.py:146: RRuntimeWarning: also installing the dependencies ‘truncnorm’, ‘FNN’, ‘kernlab’, ‘mclust’, ‘multicool’, ‘mvtnorm’, ‘DistributionUtils’, ‘GeneralizedHyperbolic’, ‘Rsolnp’, ‘nloptr’, ‘ks’, ‘numDeriv’, ‘spd’, ‘chron’, ‘SkewHyperbolic’, ‘expm’, ‘RcppArmadillo’\n",
            "\n",
            "\n",
            "  warnings.warn(x, RRuntimeWarning)\n",
            "/usr/local/lib/python3.6/dist-packages/rpy2/rinterface/__init__.py:146: RRuntimeWarning: trying URL 'https://cran.rstudio.com/src/contrib/truncnorm_1.0-8.tar.gz'\n",
            "\n",
            "  warnings.warn(x, RRuntimeWarning)\n",
            "/usr/local/lib/python3.6/dist-packages/rpy2/rinterface/__init__.py:146: RRuntimeWarning: Content type 'application/x-gzip'\n",
            "  warnings.warn(x, RRuntimeWarning)\n",
            "/usr/local/lib/python3.6/dist-packages/rpy2/rinterface/__init__.py:146: RRuntimeWarning:  length 11382 bytes (11 KB)\n",
            "\n",
            "  warnings.warn(x, RRuntimeWarning)\n",
            "/usr/local/lib/python3.6/dist-packages/rpy2/rinterface/__init__.py:146: RRuntimeWarning: =\n",
            "  warnings.warn(x, RRuntimeWarning)\n",
            "/usr/local/lib/python3.6/dist-packages/rpy2/rinterface/__init__.py:146: RRuntimeWarning: \n",
            "\n",
            "  warnings.warn(x, RRuntimeWarning)\n",
            "/usr/local/lib/python3.6/dist-packages/rpy2/rinterface/__init__.py:146: RRuntimeWarning: downloaded 11 KB\n",
            "\n",
            "\n",
            "  warnings.warn(x, RRuntimeWarning)\n",
            "/usr/local/lib/python3.6/dist-packages/rpy2/rinterface/__init__.py:146: RRuntimeWarning: trying URL 'https://cran.rstudio.com/src/contrib/FNN_1.1.3.tar.gz'\n",
            "\n",
            "  warnings.warn(x, RRuntimeWarning)\n",
            "/usr/local/lib/python3.6/dist-packages/rpy2/rinterface/__init__.py:146: RRuntimeWarning:  length 78492 bytes (76 KB)\n",
            "\n",
            "  warnings.warn(x, RRuntimeWarning)\n",
            "/usr/local/lib/python3.6/dist-packages/rpy2/rinterface/__init__.py:146: RRuntimeWarning: downloaded 76 KB\n",
            "\n",
            "\n",
            "  warnings.warn(x, RRuntimeWarning)\n",
            "/usr/local/lib/python3.6/dist-packages/rpy2/rinterface/__init__.py:146: RRuntimeWarning: trying URL 'https://cran.rstudio.com/src/contrib/kernlab_0.9-27.tar.gz'\n",
            "\n",
            "  warnings.warn(x, RRuntimeWarning)\n",
            "/usr/local/lib/python3.6/dist-packages/rpy2/rinterface/__init__.py:146: RRuntimeWarning:  length 1197907 bytes (1.1 MB)\n",
            "\n",
            "  warnings.warn(x, RRuntimeWarning)\n",
            "/usr/local/lib/python3.6/dist-packages/rpy2/rinterface/__init__.py:146: RRuntimeWarning: downloaded 1.1 MB\n",
            "\n",
            "\n",
            "  warnings.warn(x, RRuntimeWarning)\n",
            "/usr/local/lib/python3.6/dist-packages/rpy2/rinterface/__init__.py:146: RRuntimeWarning: trying URL 'https://cran.rstudio.com/src/contrib/mclust_5.4.5.tar.gz'\n",
            "\n",
            "  warnings.warn(x, RRuntimeWarning)\n",
            "/usr/local/lib/python3.6/dist-packages/rpy2/rinterface/__init__.py:146: RRuntimeWarning:  length 2873339 bytes (2.7 MB)\n",
            "\n",
            "  warnings.warn(x, RRuntimeWarning)\n",
            "/usr/local/lib/python3.6/dist-packages/rpy2/rinterface/__init__.py:146: RRuntimeWarning: downloaded 2.7 MB\n",
            "\n",
            "\n",
            "  warnings.warn(x, RRuntimeWarning)\n",
            "/usr/local/lib/python3.6/dist-packages/rpy2/rinterface/__init__.py:146: RRuntimeWarning: trying URL 'https://cran.rstudio.com/src/contrib/multicool_0.1-10.tar.gz'\n",
            "\n",
            "  warnings.warn(x, RRuntimeWarning)\n",
            "/usr/local/lib/python3.6/dist-packages/rpy2/rinterface/__init__.py:146: RRuntimeWarning:  length 11387 bytes (11 KB)\n",
            "\n",
            "  warnings.warn(x, RRuntimeWarning)\n",
            "/usr/local/lib/python3.6/dist-packages/rpy2/rinterface/__init__.py:146: RRuntimeWarning: trying URL 'https://cran.rstudio.com/src/contrib/mvtnorm_1.0-11.tar.gz'\n",
            "\n",
            "  warnings.warn(x, RRuntimeWarning)\n",
            "/usr/local/lib/python3.6/dist-packages/rpy2/rinterface/__init__.py:146: RRuntimeWarning:  length 160498 bytes (156 KB)\n",
            "\n",
            "  warnings.warn(x, RRuntimeWarning)\n",
            "/usr/local/lib/python3.6/dist-packages/rpy2/rinterface/__init__.py:146: RRuntimeWarning: downloaded 156 KB\n",
            "\n",
            "\n",
            "  warnings.warn(x, RRuntimeWarning)\n",
            "/usr/local/lib/python3.6/dist-packages/rpy2/rinterface/__init__.py:146: RRuntimeWarning: trying URL 'https://cran.rstudio.com/src/contrib/DistributionUtils_0.6-0.tar.gz'\n",
            "\n",
            "  warnings.warn(x, RRuntimeWarning)\n",
            "/usr/local/lib/python3.6/dist-packages/rpy2/rinterface/__init__.py:146: RRuntimeWarning:  length 41231 bytes (40 KB)\n",
            "\n",
            "  warnings.warn(x, RRuntimeWarning)\n",
            "/usr/local/lib/python3.6/dist-packages/rpy2/rinterface/__init__.py:146: RRuntimeWarning: downloaded 40 KB\n",
            "\n",
            "\n",
            "  warnings.warn(x, RRuntimeWarning)\n",
            "/usr/local/lib/python3.6/dist-packages/rpy2/rinterface/__init__.py:146: RRuntimeWarning: trying URL 'https://cran.rstudio.com/src/contrib/GeneralizedHyperbolic_0.8-4.tar.gz'\n",
            "\n",
            "  warnings.warn(x, RRuntimeWarning)\n",
            "/usr/local/lib/python3.6/dist-packages/rpy2/rinterface/__init__.py:146: RRuntimeWarning:  length 131895 bytes (128 KB)\n",
            "\n",
            "  warnings.warn(x, RRuntimeWarning)\n",
            "/usr/local/lib/python3.6/dist-packages/rpy2/rinterface/__init__.py:146: RRuntimeWarning: downloaded 128 KB\n",
            "\n",
            "\n",
            "  warnings.warn(x, RRuntimeWarning)\n",
            "/usr/local/lib/python3.6/dist-packages/rpy2/rinterface/__init__.py:146: RRuntimeWarning: trying URL 'https://cran.rstudio.com/src/contrib/Rsolnp_1.16.tar.gz'\n",
            "\n",
            "  warnings.warn(x, RRuntimeWarning)\n",
            "/usr/local/lib/python3.6/dist-packages/rpy2/rinterface/__init__.py:146: RRuntimeWarning:  length 188216 bytes (183 KB)\n",
            "\n",
            "  warnings.warn(x, RRuntimeWarning)\n",
            "/usr/local/lib/python3.6/dist-packages/rpy2/rinterface/__init__.py:146: RRuntimeWarning: downloaded 183 KB\n",
            "\n",
            "\n",
            "  warnings.warn(x, RRuntimeWarning)\n",
            "/usr/local/lib/python3.6/dist-packages/rpy2/rinterface/__init__.py:146: RRuntimeWarning: trying URL 'https://cran.rstudio.com/src/contrib/nloptr_1.2.1.tar.gz'\n",
            "\n",
            "  warnings.warn(x, RRuntimeWarning)\n",
            "/usr/local/lib/python3.6/dist-packages/rpy2/rinterface/__init__.py:146: RRuntimeWarning:  length 2448313 bytes (2.3 MB)\n",
            "\n",
            "  warnings.warn(x, RRuntimeWarning)\n",
            "/usr/local/lib/python3.6/dist-packages/rpy2/rinterface/__init__.py:146: RRuntimeWarning: downloaded 2.3 MB\n",
            "\n",
            "\n",
            "  warnings.warn(x, RRuntimeWarning)\n",
            "/usr/local/lib/python3.6/dist-packages/rpy2/rinterface/__init__.py:146: RRuntimeWarning: trying URL 'https://cran.rstudio.com/src/contrib/ks_1.11.5.tar.gz'\n",
            "\n",
            "  warnings.warn(x, RRuntimeWarning)\n",
            "/usr/local/lib/python3.6/dist-packages/rpy2/rinterface/__init__.py:146: RRuntimeWarning:  length 881518 bytes (860 KB)\n",
            "\n",
            "  warnings.warn(x, RRuntimeWarning)\n",
            "/usr/local/lib/python3.6/dist-packages/rpy2/rinterface/__init__.py:146: RRuntimeWarning: downloaded 860 KB\n",
            "\n",
            "\n",
            "  warnings.warn(x, RRuntimeWarning)\n",
            "/usr/local/lib/python3.6/dist-packages/rpy2/rinterface/__init__.py:146: RRuntimeWarning: trying URL 'https://cran.rstudio.com/src/contrib/numDeriv_2016.8-1.1.tar.gz'\n",
            "\n",
            "  warnings.warn(x, RRuntimeWarning)\n",
            "/usr/local/lib/python3.6/dist-packages/rpy2/rinterface/__init__.py:146: RRuntimeWarning:  length 76053 bytes (74 KB)\n",
            "\n",
            "  warnings.warn(x, RRuntimeWarning)\n",
            "/usr/local/lib/python3.6/dist-packages/rpy2/rinterface/__init__.py:146: RRuntimeWarning: downloaded 74 KB\n",
            "\n",
            "\n",
            "  warnings.warn(x, RRuntimeWarning)\n",
            "/usr/local/lib/python3.6/dist-packages/rpy2/rinterface/__init__.py:146: RRuntimeWarning: trying URL 'https://cran.rstudio.com/src/contrib/spd_2.0-1.tar.gz'\n",
            "\n",
            "  warnings.warn(x, RRuntimeWarning)\n",
            "/usr/local/lib/python3.6/dist-packages/rpy2/rinterface/__init__.py:146: RRuntimeWarning:  length 16356 bytes (15 KB)\n",
            "\n",
            "  warnings.warn(x, RRuntimeWarning)\n",
            "/usr/local/lib/python3.6/dist-packages/rpy2/rinterface/__init__.py:146: RRuntimeWarning: downloaded 15 KB\n",
            "\n",
            "\n",
            "  warnings.warn(x, RRuntimeWarning)\n",
            "/usr/local/lib/python3.6/dist-packages/rpy2/rinterface/__init__.py:146: RRuntimeWarning: trying URL 'https://cran.rstudio.com/src/contrib/chron_2.3-54.tar.gz'\n",
            "\n",
            "  warnings.warn(x, RRuntimeWarning)\n",
            "/usr/local/lib/python3.6/dist-packages/rpy2/rinterface/__init__.py:146: RRuntimeWarning:  length 37533 bytes (36 KB)\n",
            "\n",
            "  warnings.warn(x, RRuntimeWarning)\n",
            "/usr/local/lib/python3.6/dist-packages/rpy2/rinterface/__init__.py:146: RRuntimeWarning: downloaded 36 KB\n",
            "\n",
            "\n",
            "  warnings.warn(x, RRuntimeWarning)\n",
            "/usr/local/lib/python3.6/dist-packages/rpy2/rinterface/__init__.py:146: RRuntimeWarning: trying URL 'https://cran.rstudio.com/src/contrib/SkewHyperbolic_0.4-0.tar.gz'\n",
            "\n",
            "  warnings.warn(x, RRuntimeWarning)\n",
            "/usr/local/lib/python3.6/dist-packages/rpy2/rinterface/__init__.py:146: RRuntimeWarning:  length 51300 bytes (50 KB)\n",
            "\n",
            "  warnings.warn(x, RRuntimeWarning)\n",
            "/usr/local/lib/python3.6/dist-packages/rpy2/rinterface/__init__.py:146: RRuntimeWarning: downloaded 50 KB\n",
            "\n",
            "\n",
            "  warnings.warn(x, RRuntimeWarning)\n",
            "/usr/local/lib/python3.6/dist-packages/rpy2/rinterface/__init__.py:146: RRuntimeWarning: trying URL 'https://cran.rstudio.com/src/contrib/expm_0.999-4.tar.gz'\n",
            "\n",
            "  warnings.warn(x, RRuntimeWarning)\n",
            "/usr/local/lib/python3.6/dist-packages/rpy2/rinterface/__init__.py:146: RRuntimeWarning:  length 137075 bytes (133 KB)\n",
            "\n",
            "  warnings.warn(x, RRuntimeWarning)\n",
            "/usr/local/lib/python3.6/dist-packages/rpy2/rinterface/__init__.py:146: RRuntimeWarning: downloaded 133 KB\n",
            "\n",
            "\n",
            "  warnings.warn(x, RRuntimeWarning)\n",
            "/usr/local/lib/python3.6/dist-packages/rpy2/rinterface/__init__.py:146: RRuntimeWarning: trying URL 'https://cran.rstudio.com/src/contrib/RcppArmadillo_0.9.700.2.0.tar.gz'\n",
            "\n",
            "  warnings.warn(x, RRuntimeWarning)\n",
            "/usr/local/lib/python3.6/dist-packages/rpy2/rinterface/__init__.py:146: RRuntimeWarning:  length 1366153 bytes (1.3 MB)\n",
            "\n",
            "  warnings.warn(x, RRuntimeWarning)\n",
            "/usr/local/lib/python3.6/dist-packages/rpy2/rinterface/__init__.py:146: RRuntimeWarning: downloaded 1.3 MB\n",
            "\n",
            "\n",
            "  warnings.warn(x, RRuntimeWarning)\n",
            "/usr/local/lib/python3.6/dist-packages/rpy2/rinterface/__init__.py:146: RRuntimeWarning: trying URL 'https://cran.rstudio.com/src/contrib/rugarch_1.4-1.tar.gz'\n",
            "\n",
            "  warnings.warn(x, RRuntimeWarning)\n",
            "/usr/local/lib/python3.6/dist-packages/rpy2/rinterface/__init__.py:146: RRuntimeWarning:  length 2939960 bytes (2.8 MB)\n",
            "\n",
            "  warnings.warn(x, RRuntimeWarning)\n",
            "/usr/local/lib/python3.6/dist-packages/rpy2/rinterface/__init__.py:146: RRuntimeWarning: downloaded 2.8 MB\n",
            "\n",
            "\n",
            "  warnings.warn(x, RRuntimeWarning)\n",
            "/usr/local/lib/python3.6/dist-packages/rpy2/rinterface/__init__.py:146: RRuntimeWarning: \n",
            "  warnings.warn(x, RRuntimeWarning)\n",
            "/usr/local/lib/python3.6/dist-packages/rpy2/rinterface/__init__.py:146: RRuntimeWarning: The downloaded source packages are in\n",
            "\t‘/tmp/Rtmp0jQz3Z/downloaded_packages’\n",
            "  warnings.warn(x, RRuntimeWarning)\n",
            "/usr/local/lib/python3.6/dist-packages/rpy2/rinterface/__init__.py:146: RRuntimeWarning: Loading required package: parallel\n",
            "\n",
            "  warnings.warn(x, RRuntimeWarning)\n",
            "/usr/local/lib/python3.6/dist-packages/rpy2/rinterface/__init__.py:146: RRuntimeWarning: \n",
            "Attaching package: ‘rugarch’\n",
            "\n",
            "\n",
            "  warnings.warn(x, RRuntimeWarning)\n",
            "/usr/local/lib/python3.6/dist-packages/rpy2/rinterface/__init__.py:146: RRuntimeWarning: The following object is masked from ‘package:stats’:\n",
            "\n",
            "    sigma\n",
            "\n",
            "\n",
            "  warnings.warn(x, RRuntimeWarning)\n"
          ],
          "name": "stderr"
        }
      ]
    },
    {
      "cell_type": "markdown",
      "metadata": {
        "id": "kpmmnZXbe7kw",
        "colab_type": "text"
      },
      "source": [
        "First, we need to specify the model using the function `ugarchspec`. For a\n",
        "GARCH(1,1) model, we need to set the garchOrder to `c(1,1)` and the model for the mean `(mean.model)` should be a white noise process and hence equal to `armaOrder = c(0,0)` "
      ]
    },
    {
      "cell_type": "code",
      "metadata": {
        "id": "MhplV1yZd5-f",
        "colab_type": "code",
        "colab": {}
      },
      "source": [
        "%%R\n",
        "garch11.spec = ugarchspec(variance.model = list(model=\"sGARCH\",\n",
        "                      garchOrder=c(1,1)), mean.model = list(armaOrder=c(0,0)))"
      ],
      "execution_count": 0,
      "outputs": []
    },
    {
      "cell_type": "code",
      "metadata": {
        "id": "hvIOlHqWd5sd",
        "colab_type": "code",
        "outputId": "e8d292f1-6c52-440c-be18-d4ae730fc7d5",
        "colab": {
          "base_uri": "https://localhost:8080/",
          "height": 1000
        }
      },
      "source": [
        "%%R\n",
        "aapl.garch11.fit = ugarchfit(spec=garch11.spec, data=Returns)\n",
        "\n",
        "aapl.garch11.fit"
      ],
      "execution_count": 0,
      "outputs": [
        {
          "output_type": "display_data",
          "data": {
            "text/plain": [
              "\n",
              "*---------------------------------*\n",
              "*          GARCH Model Fit        *\n",
              "*---------------------------------*\n",
              "\n",
              "Conditional Variance Dynamics \t\n",
              "-----------------------------------\n",
              "GARCH Model\t: sGARCH(1,1)\n",
              "Mean Model\t: ARFIMA(0,0,0)\n",
              "Distribution\t: norm \n",
              "\n",
              "Optimal Parameters\n",
              "------------------------------------\n",
              "        Estimate  Std. Error  t value Pr(>|t|)\n",
              "mu      0.001659    0.000292   5.6728        0\n",
              "omega   0.000018    0.000003   5.4394        0\n",
              "alpha1  0.103497    0.017101   6.0521        0\n",
              "beta1   0.835964    0.023605  35.4150        0\n",
              "\n",
              "Robust Standard Errors:\n",
              "        Estimate  Std. Error  t value Pr(>|t|)\n",
              "mu      0.001659    0.000312   5.3243 0.000000\n",
              "omega   0.000018    0.000005   3.5240 0.000425\n",
              "alpha1  0.103497    0.023499   4.4043 0.000011\n",
              "beta1   0.835964    0.033896  24.6623 0.000000\n",
              "\n",
              "LogLikelihood : 7325.358 \n",
              "\n",
              "Information Criteria\n",
              "------------------------------------\n",
              "                    \n",
              "Akaike       -5.4152\n",
              "Bayes        -5.4065\n",
              "Shibata      -5.4152\n",
              "Hannan-Quinn -5.4120\n",
              "\n",
              "Weighted Ljung-Box Test on Standardized Residuals\n",
              "------------------------------------\n",
              "                        statistic p-value\n",
              "Lag[1]                      3.850 0.04973\n",
              "Lag[2*(p+q)+(p+q)-1][2]     3.916 0.07944\n",
              "Lag[4*(p+q)+(p+q)-1][5]     5.311 0.13004\n",
              "d.o.f=0\n",
              "H0 : No serial correlation\n",
              "\n",
              "Weighted Ljung-Box Test on Standardized Squared Residuals\n",
              "------------------------------------\n",
              "                        statistic p-value\n",
              "Lag[1]                  0.0008477  0.9768\n",
              "Lag[2*(p+q)+(p+q)-1][5] 2.0174297  0.6143\n",
              "Lag[4*(p+q)+(p+q)-1][9] 3.5289147  0.6694\n",
              "d.o.f=2\n",
              "\n",
              "Weighted ARCH LM Tests\n",
              "------------------------------------\n",
              "            Statistic Shape Scale P-Value\n",
              "ARCH Lag[3]    0.4905 0.500 2.000  0.4837\n",
              "ARCH Lag[5]    2.4290 1.440 1.667  0.3840\n",
              "ARCH Lag[7]    2.9553 2.315 1.543  0.5220\n",
              "\n",
              "Nyblom stability test\n",
              "------------------------------------\n",
              "Joint Statistic:  0.7181\n",
              "Individual Statistics:             \n",
              "mu     0.2674\n",
              "omega  0.2503\n",
              "alpha1 0.1865\n",
              "beta1  0.2886\n",
              "\n",
              "Asymptotic Critical Values (10% 5% 1%)\n",
              "Joint Statistic:     \t 1.07 1.24 1.6\n",
              "Individual Statistic:\t 0.35 0.47 0.75\n",
              "\n",
              "Sign Bias Test\n",
              "------------------------------------\n",
              "                   t-value     prob sig\n",
              "Sign Bias           0.3697 0.711601    \n",
              "Negative Sign Bias  1.8693 0.061684   *\n",
              "Positive Sign Bias  1.3044 0.192208    \n",
              "Joint Effect       13.1473 0.004329 ***\n",
              "\n",
              "\n",
              "Adjusted Pearson Goodness-of-Fit Test:\n",
              "------------------------------------\n",
              "  group statistic p-value(g-1)\n",
              "1    20     127.4    4.596e-18\n",
              "2    30     135.0    1.298e-15\n",
              "3    40     151.4    3.683e-15\n",
              "4    50     159.9    1.100e-13\n",
              "\n",
              "\n",
              "Elapsed time : 0.6079884 \n",
              "\n"
            ]
          },
          "metadata": {
            "tags": []
          }
        }
      ]
    },
    {
      "cell_type": "code",
      "metadata": {
        "id": "5TMvq9Lyd5fI",
        "colab_type": "code",
        "outputId": "5951485c-0cfc-46ec-9b59-8a515dac66fd",
        "colab": {
          "base_uri": "https://localhost:8080/",
          "height": 496
        }
      },
      "source": [
        "%%R\n",
        "ni.garch11 <- newsimpact(aapl.garch11.fit)\n",
        "plot(ni.garch11$zx, ni.garch11$zy, type=\"l\", lwd=2, col=\"blue\",\n",
        "main=\"GARCH(1,1) - News Impact\", ylab=ni.garch11$yexpr, xlab=ni.garch11$xexpr)"
      ],
      "execution_count": 0,
      "outputs": [
        {
          "output_type": "display_data",
          "data": {
            "image/png": "[encoded data removed]"
          },
          "metadata": {
            "tags": []
          }
        }
      ]
    },
    {
      "cell_type": "code",
      "metadata": {
        "id": "hPv6PJROd5R1",
        "colab_type": "code",
        "outputId": "abfcc4aa-3996-4dac-f17a-1320e10ba112",
        "colab": {
          "base_uri": "https://localhost:8080/",
          "height": 1000
        }
      },
      "source": [
        "%%R\n",
        "egarch11.spec = ugarchspec(variance.model = list(model=\"eGARCH\",\n",
        "                      garchOrder=c(1,1)), mean.model = list(armaOrder=c(0,0)))\n",
        "\n",
        "aapl.egarch11.fit = ugarchfit(spec=egarch11.spec, data=Returns)\n",
        "\n",
        "aapl.egarch11.fit"
      ],
      "execution_count": 0,
      "outputs": [
        {
          "output_type": "display_data",
          "data": {
            "text/plain": [
              "\n",
              "*---------------------------------*\n",
              "*          GARCH Model Fit        *\n",
              "*---------------------------------*\n",
              "\n",
              "Conditional Variance Dynamics \t\n",
              "-----------------------------------\n",
              "GARCH Model\t: eGARCH(1,1)\n",
              "Mean Model\t: ARFIMA(0,0,0)\n",
              "Distribution\t: norm \n",
              "\n",
              "Optimal Parameters\n",
              "------------------------------------\n",
              "        Estimate  Std. Error  t value Pr(>|t|)\n",
              "mu      0.001213    0.000281   4.3111  1.6e-05\n",
              "omega  -0.521394    0.117245  -4.4471  9.0e-06\n",
              "alpha1 -0.117948    0.007290 -16.1791  0.0e+00\n",
              "beta1   0.936148    0.014185  65.9939  0.0e+00\n",
              "gamma1  0.161032    0.015905  10.1247  0.0e+00\n",
              "\n",
              "Robust Standard Errors:\n",
              "        Estimate  Std. Error  t value Pr(>|t|)\n",
              "mu      0.001213    0.000392   3.0910 0.001995\n",
              "omega  -0.521394    0.367003  -1.4207 0.155410\n",
              "alpha1 -0.117948    0.044536  -2.6484 0.008088\n",
              "beta1   0.936148    0.044599  20.9903 0.000000\n",
              "gamma1  0.161032    0.044966   3.5812 0.000342\n",
              "\n",
              "LogLikelihood : 7380.487 \n",
              "\n",
              "Information Criteria\n",
              "------------------------------------\n",
              "                    \n",
              "Akaike       -5.4552\n",
              "Bayes        -5.4443\n",
              "Shibata      -5.4552\n",
              "Hannan-Quinn -5.4513\n",
              "\n",
              "Weighted Ljung-Box Test on Standardized Residuals\n",
              "------------------------------------\n",
              "                        statistic p-value\n",
              "Lag[1]                      5.559 0.01838\n",
              "Lag[2*(p+q)+(p+q)-1][2]     5.567 0.02869\n",
              "Lag[4*(p+q)+(p+q)-1][5]     6.819 0.05737\n",
              "d.o.f=0\n",
              "H0 : No serial correlation\n",
              "\n",
              "Weighted Ljung-Box Test on Standardized Squared Residuals\n",
              "------------------------------------\n",
              "                        statistic p-value\n",
              "Lag[1]                  2.533e-05  0.9960\n",
              "Lag[2*(p+q)+(p+q)-1][5] 6.557e-01  0.9312\n",
              "Lag[4*(p+q)+(p+q)-1][9] 1.635e+00  0.9438\n",
              "d.o.f=2\n",
              "\n",
              "Weighted ARCH LM Tests\n",
              "------------------------------------\n",
              "            Statistic Shape Scale P-Value\n",
              "ARCH Lag[3]   0.07325 0.500 2.000  0.7867\n",
              "ARCH Lag[5]   0.68002 1.440 1.667  0.8295\n",
              "ARCH Lag[7]   1.29720 2.315 1.543  0.8610\n",
              "\n",
              "Nyblom stability test\n",
              "------------------------------------\n",
              "Joint Statistic:  1.7238\n",
              "Individual Statistics:              \n",
              "mu     0.37900\n",
              "omega  0.43375\n",
              "alpha1 0.32769\n",
              "beta1  0.43723\n",
              "gamma1 0.04081\n",
              "\n",
              "Asymptotic Critical Values (10% 5% 1%)\n",
              "Joint Statistic:     \t 1.28 1.47 1.88\n",
              "Individual Statistic:\t 0.35 0.47 0.75\n",
              "\n",
              "Sign Bias Test\n",
              "------------------------------------\n",
              "                   t-value   prob sig\n",
              "Sign Bias           0.6940 0.4877    \n",
              "Negative Sign Bias  0.2348 0.8144    \n",
              "Positive Sign Bias  0.1192 0.9051    \n",
              "Joint Effect        1.6294 0.6527    \n",
              "\n",
              "\n",
              "Adjusted Pearson Goodness-of-Fit Test:\n",
              "------------------------------------\n",
              "  group statistic p-value(g-1)\n",
              "1    20     92.32    1.286e-11\n",
              "2    30    111.92    1.114e-11\n",
              "3    40    121.00    2.506e-10\n",
              "4    50    141.30    6.946e-11\n",
              "\n",
              "\n",
              "Elapsed time : 0.3186896 \n",
              "\n"
            ]
          },
          "metadata": {
            "tags": []
          }
        }
      ]
    },
    {
      "cell_type": "code",
      "metadata": {
        "id": "wvdJBMb_d5FZ",
        "colab_type": "code",
        "outputId": "f8f443cc-26a2-4cd5-c273-a758cb5a5432",
        "colab": {
          "base_uri": "https://localhost:8080/",
          "height": 496
        }
      },
      "source": [
        "%%R\n",
        "ni.egarch11 <- newsimpact(aapl.egarch11.fit)\n",
        "\n",
        "plot(ni.egarch11$zx, ni.egarch11$zy, type=\"l\", lwd=2, col=\"blue\",main=\"EGARCH(1,1) - News Impact\",\n",
        "      ylab=ni.egarch11$yexpr, xlab=ni.egarch11$xexpr)"
      ],
      "execution_count": 0,
      "outputs": [
        {
          "output_type": "display_data",
          "data": {
            "image/png": "[encoded data removed]"
          },
          "metadata": {
            "tags": []
          }
        }
      ]
    },
    {
      "cell_type": "code",
      "metadata": {
        "id": "Xl0i6TXSd42k",
        "colab_type": "code",
        "outputId": "0df26f85-7695-416c-b3e2-394ca2d2b946",
        "colab": {
          "base_uri": "https://localhost:8080/",
          "height": 1000
        }
      },
      "source": [
        "%%R\n",
        "# specify TGARCH(1,1) model with only constant in mean equation\n",
        "tgarch11.spec = ugarchspec(variance.model = list(model=\"fGARCH\",\n",
        "    submodel=\"TGARCH\", garchOrder=c(1,1)),\n",
        "    mean.model = list(armaOrder=c(0,0)))\n",
        "\n",
        "aapl.tgarch11.fit = ugarchfit(spec=tgarch11.spec, data=Returns)\n",
        "\n",
        "\n",
        "aapl.egarch11.fit"
      ],
      "execution_count": 0,
      "outputs": [
        {
          "output_type": "display_data",
          "data": {
            "text/plain": [
              "\n",
              "*---------------------------------*\n",
              "*          GARCH Model Fit        *\n",
              "*---------------------------------*\n",
              "\n",
              "Conditional Variance Dynamics \t\n",
              "-----------------------------------\n",
              "GARCH Model\t: eGARCH(1,1)\n",
              "Mean Model\t: ARFIMA(0,0,0)\n",
              "Distribution\t: norm \n",
              "\n",
              "Optimal Parameters\n",
              "------------------------------------\n",
              "        Estimate  Std. Error  t value Pr(>|t|)\n",
              "mu      0.001213    0.000281   4.3111  1.6e-05\n",
              "omega  -0.521394    0.117245  -4.4471  9.0e-06\n",
              "alpha1 -0.117948    0.007290 -16.1791  0.0e+00\n",
              "beta1   0.936148    0.014185  65.9939  0.0e+00\n",
              "gamma1  0.161032    0.015905  10.1247  0.0e+00\n",
              "\n",
              "Robust Standard Errors:\n",
              "        Estimate  Std. Error  t value Pr(>|t|)\n",
              "mu      0.001213    0.000392   3.0910 0.001995\n",
              "omega  -0.521394    0.367003  -1.4207 0.155410\n",
              "alpha1 -0.117948    0.044536  -2.6484 0.008088\n",
              "beta1   0.936148    0.044599  20.9903 0.000000\n",
              "gamma1  0.161032    0.044966   3.5812 0.000342\n",
              "\n",
              "LogLikelihood : 7380.487 \n",
              "\n",
              "Information Criteria\n",
              "------------------------------------\n",
              "                    \n",
              "Akaike       -5.4552\n",
              "Bayes        -5.4443\n",
              "Shibata      -5.4552\n",
              "Hannan-Quinn -5.4513\n",
              "\n",
              "Weighted Ljung-Box Test on Standardized Residuals\n",
              "------------------------------------\n",
              "                        statistic p-value\n",
              "Lag[1]                      5.559 0.01838\n",
              "Lag[2*(p+q)+(p+q)-1][2]     5.567 0.02869\n",
              "Lag[4*(p+q)+(p+q)-1][5]     6.819 0.05737\n",
              "d.o.f=0\n",
              "H0 : No serial correlation\n",
              "\n",
              "Weighted Ljung-Box Test on Standardized Squared Residuals\n",
              "------------------------------------\n",
              "                        statistic p-value\n",
              "Lag[1]                  2.533e-05  0.9960\n",
              "Lag[2*(p+q)+(p+q)-1][5] 6.557e-01  0.9312\n",
              "Lag[4*(p+q)+(p+q)-1][9] 1.635e+00  0.9438\n",
              "d.o.f=2\n",
              "\n",
              "Weighted ARCH LM Tests\n",
              "------------------------------------\n",
              "            Statistic Shape Scale P-Value\n",
              "ARCH Lag[3]   0.07325 0.500 2.000  0.7867\n",
              "ARCH Lag[5]   0.68002 1.440 1.667  0.8295\n",
              "ARCH Lag[7]   1.29720 2.315 1.543  0.8610\n",
              "\n",
              "Nyblom stability test\n",
              "------------------------------------\n",
              "Joint Statistic:  1.7238\n",
              "Individual Statistics:              \n",
              "mu     0.37900\n",
              "omega  0.43375\n",
              "alpha1 0.32769\n",
              "beta1  0.43723\n",
              "gamma1 0.04081\n",
              "\n",
              "Asymptotic Critical Values (10% 5% 1%)\n",
              "Joint Statistic:     \t 1.28 1.47 1.88\n",
              "Individual Statistic:\t 0.35 0.47 0.75\n",
              "\n",
              "Sign Bias Test\n",
              "------------------------------------\n",
              "                   t-value   prob sig\n",
              "Sign Bias           0.6940 0.4877    \n",
              "Negative Sign Bias  0.2348 0.8144    \n",
              "Positive Sign Bias  0.1192 0.9051    \n",
              "Joint Effect        1.6294 0.6527    \n",
              "\n",
              "\n",
              "Adjusted Pearson Goodness-of-Fit Test:\n",
              "------------------------------------\n",
              "  group statistic p-value(g-1)\n",
              "1    20     92.32    1.286e-11\n",
              "2    30    111.92    1.114e-11\n",
              "3    40    121.00    2.506e-10\n",
              "4    50    141.30    6.946e-11\n",
              "\n",
              "\n",
              "Elapsed time : 0.3186896 \n",
              "\n"
            ]
          },
          "metadata": {
            "tags": []
          }
        }
      ]
    },
    {
      "cell_type": "code",
      "metadata": {
        "id": "quHTCu8Fd4mU",
        "colab_type": "code",
        "outputId": "c9075fa5-e2f6-4c1a-872a-0bafcfd01e1c",
        "colab": {
          "base_uri": "https://localhost:8080/",
          "height": 496
        }
      },
      "source": [
        "%%R\n",
        "ni.tgarch11 <- newsimpact(aapl.tgarch11.fit)\n",
        "\n",
        "plot(ni.tgarch11$zx, ni.tgarch11$zy, type=\"l\", lwd=2, col=\"blue\", \n",
        "     main=\"TGARCH(1,1) - News Impact\", ylab=ni.tgarch11$yexpr, xlab=ni.tgarch11$xexpr)"
      ],
      "execution_count": 0,
      "outputs": [
        {
          "output_type": "display_data",
          "data": {
            "image/png": "[encoded data removed]"
          },
          "metadata": {
            "tags": []
          }
        }
      ]
    },
    {
      "cell_type": "markdown",
      "metadata": {
        "id": "1G87wt0m0xX0",
        "colab_type": "text"
      },
      "source": [
        "### FORECASTING"
      ]
    },
    {
      "cell_type": "code",
      "metadata": {
        "id": "wIDWEWcfd4FF",
        "colab_type": "code",
        "outputId": "f0e0638e-669b-43b7-c942-d0e7b2bbcb7b",
        "colab": {
          "base_uri": "https://localhost:8080/",
          "height": 1000
        }
      },
      "source": [
        "%%R\n",
        "egarch11.spec = ugarchspec(variance.model = list(model=\"eGARCH\",\n",
        "                      garchOrder=c(2,1)), mean.model = list(armaOrder=c(2,0)))\n",
        "\n",
        "aapl.egarch11.fit = ugarchfit(spec=egarch11.spec, data=Returns)\n",
        "\n",
        "\n",
        "aapl.egarch11.fcst <- ugarchboot(aapl.egarch11.fit, n.ahead=10, \n",
        "                                method=c('Partial','full')[1])\n",
        "\n",
        "print(aapl.egarch11.fcst)\n",
        "\n",
        "plot(aapl.egarch11.fcst, which='all')"
      ],
      "execution_count": 0,
      "outputs": [
        {
          "output_type": "display_data",
          "data": {
            "text/plain": [
              "\n",
              "*-----------------------------------*\n",
              "*     GARCH Bootstrap Forecast      *\n",
              "*-----------------------------------*\n",
              "Model : eGARCH\n",
              "n.ahead : 10\n",
              "Bootstrap method:  partial\n",
              "Date (T[0]): 2019-09-30\n",
              "\n",
              "Series (summary):\n",
              "           min      q.25     mean     q.75      max forecast[analytic]\n",
              "t+1  -0.068703 -0.005397 0.001909 0.010533 0.085869           0.001786\n",
              "t+2  -0.053046 -0.005695 0.002647 0.010519 0.084367           0.001679\n",
              "t+3  -0.082251 -0.008124 0.000635 0.008616 0.054940           0.001181\n",
              "t+4  -0.080854 -0.006466 0.000734 0.008324 0.081608           0.001161\n",
              "t+5  -0.075187 -0.007642 0.000153 0.009131 0.071604           0.001148\n",
              "t+6  -0.054865 -0.006391 0.002396 0.010929 0.064872           0.001147\n",
              "t+7  -0.046887 -0.007015 0.001040 0.009635 0.058612           0.001147\n",
              "t+8  -0.077506 -0.007172 0.000820 0.009733 0.064822           0.001147\n",
              "t+9  -0.056066 -0.006628 0.001187 0.009617 0.060538           0.001147\n",
              "t+10 -0.055714 -0.006258 0.001318 0.009393 0.096704           0.001147\n",
              ".....................\n",
              "\n",
              "Sigma (summary):\n",
              "          min    q0.25     mean    q0.75      max forecast[analytic]\n",
              "t+1  0.014189 0.014189 0.014189 0.014189 0.014189           0.014189\n",
              "t+2  0.013762 0.013821 0.014747 0.014997 0.031976           0.014766\n",
              "t+3  0.013131 0.013464 0.014745 0.015429 0.026444           0.014878\n",
              "t+4  0.012557 0.013360 0.014900 0.015743 0.035187           0.014984\n",
              "t+5  0.012077 0.013128 0.015011 0.015972 0.036181           0.015086\n",
              "t+6  0.011759 0.013141 0.015200 0.016171 0.033811           0.015182\n",
              "t+7  0.011448 0.013209 0.015087 0.016082 0.029590           0.015273\n",
              "t+8  0.010989 0.013213 0.015174 0.016600 0.029957           0.015360\n",
              "t+9  0.011132 0.013086 0.015265 0.016606 0.033236           0.015443\n",
              "t+10 0.010768 0.013038 0.015241 0.016572 0.033393           0.015521\n",
              ".....................\n",
              "\n"
            ]
          },
          "metadata": {
            "tags": []
          }
        },
        {
          "output_type": "display_data",
          "data": {
            "image/png": "[encoded data removed]"
          },
          "metadata": {
            "tags": []
          }
        }
      ]
    }
  ]
}